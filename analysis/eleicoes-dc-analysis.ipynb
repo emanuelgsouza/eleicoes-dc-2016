{
 "cells": [
  {
   "cell_type": "markdown",
   "metadata": {},
   "source": [
    "# Eleições para segundo turno em Duque de Caxias - RJ"
   ]
  },
  {
   "cell_type": "markdown",
   "metadata": {},
   "source": [
    "Antes de qualquer código e gráfico, vamos a alguns conceitos que serão colocados nas análises a seguir:\n",
    "\n",
    "As eleições para os cargos executivos (prefeito, governador e presidente) são eleições majoritárias, isto é, o candidato eleito será o que tiver mais votos. Este trabalho visa a analisar, graficamente, dados além dos votos válidos, que são os votos brancos e nulos, e abstenções.\n",
    "\n",
    "Dois fatos chamam a atenção quando analisa-se a eleição referida:\n",
    "* A proporção de eleitores que se absteram de votar, somados os que anularam seus votos, foi considerável (mais de 30%)\n",
    "* A soma desses potenciais votos, foi maior que a soma dos votos válidos para o candidato eleito\n",
    "\n",
    "Assim, os dados a seguir, acabam por explicitar a problemática da eleição no Brasil, a qual desconsidera os votos inválidos e abstenções na hora da apuração dos votos."
   ]
  },
  {
   "cell_type": "code",
   "execution_count": 1,
   "metadata": {},
   "outputs": [
    {
     "data": {
      "text/html": [
       "<script>requirejs.config({paths: { 'plotly': ['https://cdn.plot.ly/plotly-latest.min']},});if(!window.Plotly) {{require(['plotly'],function(plotly) {window.Plotly=plotly;});}}</script>"
      ],
      "text/vnd.plotly.v1+html": [
       "<script>requirejs.config({paths: { 'plotly': ['https://cdn.plot.ly/plotly-latest.min']},});if(!window.Plotly) {{require(['plotly'],function(plotly) {window.Plotly=plotly;});}}</script>"
      ]
     },
     "metadata": {},
     "output_type": "display_data"
    }
   ],
   "source": [
    "import pandas as pd\n",
    "import plotly.offline as py\n",
    "import plotly.graph_objs as go\n",
    "py.init_notebook_mode(connected=True)\n",
    "from eleicoes_analysis import *\n",
    "\n",
    "df_detalhe = pd.read_csv('dataset/detalhe_votacao_secao_DC_2016_RJ.csv')\n",
    "df_votacao_candidato = pd.read_csv('dataset/votacao_munzona_DC_2016_RJ.csv')\n",
    "\n",
    "numeros_consolidados = getConsolidateNumbers(df_detalhe)\n",
    "total_votos_validos = numeros_consolidados.get('validos')\n",
    "total_votos_nao_considerados = numeros_consolidados.get('nao_considerados')\n",
    "total_abstencoes = numeros_consolidados.get('abstencoes')\n",
    "total_brancos = numeros_consolidados.get('brancos')\n",
    "total_nulos = numeros_consolidados.get('nulos')\n",
    "\n",
    "numeros_consolidados_por_candidato = getConsolidateNumbersByCandidate(df_votacao_candidato)\n",
    "nameVotes = getNameVotesByCandidate(numeros_consolidados_por_candidato)\n",
    "cand1 = nameVotes.get('cand1')\n",
    "cand2 = nameVotes.get('cand2')"
   ]
  },
  {
   "cell_type": "markdown",
   "metadata": {},
   "source": [
    "## Visualizando os dados"
   ]
  },
  {
   "cell_type": "markdown",
   "metadata": {},
   "source": [
    "### Visualizando os dados em geral"
   ]
  },
  {
   "cell_type": "markdown",
   "metadata": {},
   "source": [
    "#### Proporção de eleitores considerados (votos válidos) em relação aos não considerados"
   ]
  },
  {
   "cell_type": "code",
   "execution_count": 23,
   "metadata": {},
   "outputs": [
    {
     "data": {
      "application/vnd.plotly.v1+json": {
       "data": [
        {
         "labels": [
          "Computados",
          "Não Computados"
         ],
         "textinfo": "percent+value+label",
         "type": "pie",
         "uid": "95d241e8-e1b0-11e8-9928-5cc9d399d62a",
         "values": [
          402030,
          226134
         ]
        }
       ],
       "layout": {
        "title": "O eleitorado divido em: votos computados e desconsiderado"
       }
      },
      "text/html": [
       "<div id=\"f437e30c-e6bc-477e-b33a-0ed618b2f646\" style=\"height: 525px; width: 100%;\" class=\"plotly-graph-div\"></div><script type=\"text/javascript\">require([\"plotly\"], function(Plotly) { window.PLOTLYENV=window.PLOTLYENV || {};window.PLOTLYENV.BASE_URL=\"https://plot.ly\";Plotly.newPlot(\"f437e30c-e6bc-477e-b33a-0ed618b2f646\", [{\"labels\": [\"Computados\", \"N\\u00e3o Computados\"], \"textinfo\": \"percent+value+label\", \"values\": [402030, 226134], \"type\": \"pie\", \"uid\": \"95d241e8-e1b0-11e8-9928-5cc9d399d62a\"}], {\"title\": \"O eleitorado divido em: votos computados e desconsiderado\"}, {\"showLink\": true, \"linkText\": \"Export to plot.ly\"})});</script>"
      ],
      "text/vnd.plotly.v1+html": [
       "<div id=\"f437e30c-e6bc-477e-b33a-0ed618b2f646\" style=\"height: 525px; width: 100%;\" class=\"plotly-graph-div\"></div><script type=\"text/javascript\">require([\"plotly\"], function(Plotly) { window.PLOTLYENV=window.PLOTLYENV || {};window.PLOTLYENV.BASE_URL=\"https://plot.ly\";Plotly.newPlot(\"f437e30c-e6bc-477e-b33a-0ed618b2f646\", [{\"labels\": [\"Computados\", \"N\\u00e3o Computados\"], \"textinfo\": \"percent+value+label\", \"values\": [402030, 226134], \"type\": \"pie\", \"uid\": \"95d241e8-e1b0-11e8-9928-5cc9d399d62a\"}], {\"title\": \"O eleitorado divido em: votos computados e desconsiderado\"}, {\"showLink\": true, \"linkText\": \"Export to plot.ly\"})});</script>"
      ]
     },
     "metadata": {},
     "output_type": "display_data"
    }
   ],
   "source": [
    "values = [total_votos_validos, total_votos_nao_considerados]\n",
    "labels = [ 'Computados', 'Não Computados' ]\n",
    "\n",
    "title = 'O eleitorado divido em: votos computados e desconsiderado'\n",
    "fig = generatePieChart(go=go, labels=labels, values=values, title=title)\n",
    "py.iplot(fig)"
   ]
  },
  {
   "cell_type": "markdown",
   "metadata": {},
   "source": [
    "#### Visualização da distribuição dos votos dos candidatos em segundo turno"
   ]
  },
  {
   "cell_type": "code",
   "execution_count": 24,
   "metadata": {},
   "outputs": [
    {
     "data": {
      "application/vnd.plotly.v1+json": {
       "data": [
        {
         "labels": [
          "Não Computados",
          "DICA",
          "WASHINGTON REIS"
         ],
         "textinfo": "percent+value+label",
         "type": "pie",
         "uid": "970bf4f0-e1b0-11e8-9928-5cc9d399d62a",
         "values": [
          226134,
          184230,
          217800
         ]
        }
       ],
       "layout": {
        "title": "O eleitorado divido em: votos por candidato e desconsiderado"
       }
      },
      "text/html": [
       "<div id=\"75fa07c8-bc67-4f82-9b30-c675f68cdb76\" style=\"height: 525px; width: 100%;\" class=\"plotly-graph-div\"></div><script type=\"text/javascript\">require([\"plotly\"], function(Plotly) { window.PLOTLYENV=window.PLOTLYENV || {};window.PLOTLYENV.BASE_URL=\"https://plot.ly\";Plotly.newPlot(\"75fa07c8-bc67-4f82-9b30-c675f68cdb76\", [{\"labels\": [\"N\\u00e3o Computados\", \"DICA\", \"WASHINGTON REIS\"], \"textinfo\": \"percent+value+label\", \"values\": [226134, 184230, 217800], \"type\": \"pie\", \"uid\": \"970bf4f0-e1b0-11e8-9928-5cc9d399d62a\"}], {\"title\": \"O eleitorado divido em: votos por candidato e desconsiderado\"}, {\"showLink\": true, \"linkText\": \"Export to plot.ly\"})});</script>"
      ],
      "text/vnd.plotly.v1+html": [
       "<div id=\"75fa07c8-bc67-4f82-9b30-c675f68cdb76\" style=\"height: 525px; width: 100%;\" class=\"plotly-graph-div\"></div><script type=\"text/javascript\">require([\"plotly\"], function(Plotly) { window.PLOTLYENV=window.PLOTLYENV || {};window.PLOTLYENV.BASE_URL=\"https://plot.ly\";Plotly.newPlot(\"75fa07c8-bc67-4f82-9b30-c675f68cdb76\", [{\"labels\": [\"N\\u00e3o Computados\", \"DICA\", \"WASHINGTON REIS\"], \"textinfo\": \"percent+value+label\", \"values\": [226134, 184230, 217800], \"type\": \"pie\", \"uid\": \"970bf4f0-e1b0-11e8-9928-5cc9d399d62a\"}], {\"title\": \"O eleitorado divido em: votos por candidato e desconsiderado\"}, {\"showLink\": true, \"linkText\": \"Export to plot.ly\"})});</script>"
      ]
     },
     "metadata": {},
     "output_type": "display_data"
    }
   ],
   "source": [
    "values = [total_votos_nao_considerados, cand1.get('votes'), cand2.get('votes')]\n",
    "labels = [ 'Não Computados', cand1.get('name'), cand2.get('name') ]\n",
    "\n",
    "title = 'O eleitorado divido em: votos por candidato e desconsiderado'\n",
    "fig = generatePieChart(go=go, labels=labels, values=values, title=title)\n",
    "py.iplot(fig)"
   ]
  },
  {
   "cell_type": "markdown",
   "metadata": {},
   "source": [
    "#### Como a eleição considera votos válidos, como ficou o resultado?"
   ]
  },
  {
   "cell_type": "code",
   "execution_count": 4,
   "metadata": {},
   "outputs": [
    {
     "data": {
      "application/vnd.plotly.v1+json": {
       "data": [
        {
         "labels": [
          "DICA",
          "WASHINGTON REIS"
         ],
         "textinfo": "percent+value+label",
         "type": "pie",
         "uid": "668cc78c-e1a8-11e8-9928-5cc9d399d62a",
         "values": [
          184230,
          217800
         ]
        }
       ],
       "layout": {
        "title": "A divisão dos votos válidos na eleição em 2016"
       }
      },
      "text/html": [
       "<div id=\"586dd37b-8199-4a7f-a60e-e40444489400\" style=\"height: 525px; width: 100%;\" class=\"plotly-graph-div\"></div><script type=\"text/javascript\">require([\"plotly\"], function(Plotly) { window.PLOTLYENV=window.PLOTLYENV || {};window.PLOTLYENV.BASE_URL=\"https://plot.ly\";Plotly.newPlot(\"586dd37b-8199-4a7f-a60e-e40444489400\", [{\"labels\": [\"DICA\", \"WASHINGTON REIS\"], \"textinfo\": \"percent+value+label\", \"values\": [184230, 217800], \"type\": \"pie\", \"uid\": \"668cc78c-e1a8-11e8-9928-5cc9d399d62a\"}], {\"title\": \"A divis\\u00e3o dos votos v\\u00e1lidos na elei\\u00e7\\u00e3o em 2016\"}, {\"showLink\": true, \"linkText\": \"Export to plot.ly\"})});</script>"
      ],
      "text/vnd.plotly.v1+html": [
       "<div id=\"586dd37b-8199-4a7f-a60e-e40444489400\" style=\"height: 525px; width: 100%;\" class=\"plotly-graph-div\"></div><script type=\"text/javascript\">require([\"plotly\"], function(Plotly) { window.PLOTLYENV=window.PLOTLYENV || {};window.PLOTLYENV.BASE_URL=\"https://plot.ly\";Plotly.newPlot(\"586dd37b-8199-4a7f-a60e-e40444489400\", [{\"labels\": [\"DICA\", \"WASHINGTON REIS\"], \"textinfo\": \"percent+value+label\", \"values\": [184230, 217800], \"type\": \"pie\", \"uid\": \"668cc78c-e1a8-11e8-9928-5cc9d399d62a\"}], {\"title\": \"A divis\\u00e3o dos votos v\\u00e1lidos na elei\\u00e7\\u00e3o em 2016\"}, {\"showLink\": true, \"linkText\": \"Export to plot.ly\"})});</script>"
      ]
     },
     "metadata": {},
     "output_type": "display_data"
    }
   ],
   "source": [
    "values = [cand1.get('votes'), cand2.get('votes')]\n",
    "labels = [cand1.get('name'), cand2.get('name')]\n",
    "\n",
    "title = 'A divisão dos votos válidos na eleição em 2016'\n",
    "fig = generatePieChart(go=go, labels=labels, values=values, title=title)\n",
    "py.iplot(fig)"
   ]
  },
  {
   "cell_type": "markdown",
   "metadata": {},
   "source": [
    "#### Visualizando a divisão entre os não considerados"
   ]
  },
  {
   "cell_type": "code",
   "execution_count": 25,
   "metadata": {},
   "outputs": [
    {
     "data": {
      "application/vnd.plotly.v1+json": {
       "data": [
        {
         "labels": [
          "Válidos",
          "Abstenções",
          "Brancos",
          "Nulos"
         ],
         "textinfo": "percent+value+label",
         "type": "pie",
         "uid": "b290efaa-e1b0-11e8-9928-5cc9d399d62a",
         "values": [
          402030,
          149714,
          18337,
          58083
         ]
        }
       ],
       "layout": {
        "title": "Proporcao de eleitores em votos válidos e desconsiderados"
       }
      },
      "text/html": [
       "<div id=\"9d84133a-e3bd-4ad6-9559-ad99a6b1a269\" style=\"height: 525px; width: 100%;\" class=\"plotly-graph-div\"></div><script type=\"text/javascript\">require([\"plotly\"], function(Plotly) { window.PLOTLYENV=window.PLOTLYENV || {};window.PLOTLYENV.BASE_URL=\"https://plot.ly\";Plotly.newPlot(\"9d84133a-e3bd-4ad6-9559-ad99a6b1a269\", [{\"labels\": [\"V\\u00e1lidos\", \"Absten\\u00e7\\u00f5es\", \"Brancos\", \"Nulos\"], \"textinfo\": \"percent+value+label\", \"values\": [402030, 149714, 18337, 58083], \"type\": \"pie\", \"uid\": \"b290efaa-e1b0-11e8-9928-5cc9d399d62a\"}], {\"title\": \"Proporcao de eleitores em votos v\\u00e1lidos e desconsiderados\"}, {\"showLink\": true, \"linkText\": \"Export to plot.ly\"})});</script>"
      ],
      "text/vnd.plotly.v1+html": [
       "<div id=\"9d84133a-e3bd-4ad6-9559-ad99a6b1a269\" style=\"height: 525px; width: 100%;\" class=\"plotly-graph-div\"></div><script type=\"text/javascript\">require([\"plotly\"], function(Plotly) { window.PLOTLYENV=window.PLOTLYENV || {};window.PLOTLYENV.BASE_URL=\"https://plot.ly\";Plotly.newPlot(\"9d84133a-e3bd-4ad6-9559-ad99a6b1a269\", [{\"labels\": [\"V\\u00e1lidos\", \"Absten\\u00e7\\u00f5es\", \"Brancos\", \"Nulos\"], \"textinfo\": \"percent+value+label\", \"values\": [402030, 149714, 18337, 58083], \"type\": \"pie\", \"uid\": \"b290efaa-e1b0-11e8-9928-5cc9d399d62a\"}], {\"title\": \"Proporcao de eleitores em votos v\\u00e1lidos e desconsiderados\"}, {\"showLink\": true, \"linkText\": \"Export to plot.ly\"})});</script>"
      ]
     },
     "metadata": {},
     "output_type": "display_data"
    }
   ],
   "source": [
    "values = [total_votos_validos, total_abstencoes, total_brancos, total_nulos]\n",
    "labels = [ 'Válidos', 'Abstenções', 'Brancos', 'Nulos' ]\n",
    "\n",
    "title = 'Proporcao de eleitores em votos válidos e desconsiderados'\n",
    "fig = generatePieChart(go=go, labels=labels, values=values, title=title)\n",
    "py.iplot(fig)"
   ]
  },
  {
   "cell_type": "markdown",
   "metadata": {},
   "source": [
    "#### Visualização com a distribuição dos votos dos candidatos em segundo turno"
   ]
  },
  {
   "cell_type": "code",
   "execution_count": 26,
   "metadata": {},
   "outputs": [
    {
     "data": {
      "application/vnd.plotly.v1+json": {
       "data": [
        {
         "labels": [
          "DICA",
          "WASHINGTON REIS",
          "Abstenções",
          "Brancos",
          "Nulos"
         ],
         "textinfo": "percent+value+label",
         "type": "pie",
         "uid": "ba4192a4-e1b0-11e8-9928-5cc9d399d62a",
         "values": [
          184230,
          217800,
          149714,
          18337,
          58083
         ]
        }
       ],
       "layout": {
        "title": "Proporcao de eleitores em votos por candidato e desconsiderados"
       }
      },
      "text/html": [
       "<div id=\"8572a19e-e3a9-42be-8982-87f5380e7b95\" style=\"height: 525px; width: 100%;\" class=\"plotly-graph-div\"></div><script type=\"text/javascript\">require([\"plotly\"], function(Plotly) { window.PLOTLYENV=window.PLOTLYENV || {};window.PLOTLYENV.BASE_URL=\"https://plot.ly\";Plotly.newPlot(\"8572a19e-e3a9-42be-8982-87f5380e7b95\", [{\"labels\": [\"DICA\", \"WASHINGTON REIS\", \"Absten\\u00e7\\u00f5es\", \"Brancos\", \"Nulos\"], \"textinfo\": \"percent+value+label\", \"values\": [184230, 217800, 149714, 18337, 58083], \"type\": \"pie\", \"uid\": \"ba4192a4-e1b0-11e8-9928-5cc9d399d62a\"}], {\"title\": \"Proporcao de eleitores em votos por candidato e desconsiderados\"}, {\"showLink\": true, \"linkText\": \"Export to plot.ly\"})});</script>"
      ],
      "text/vnd.plotly.v1+html": [
       "<div id=\"8572a19e-e3a9-42be-8982-87f5380e7b95\" style=\"height: 525px; width: 100%;\" class=\"plotly-graph-div\"></div><script type=\"text/javascript\">require([\"plotly\"], function(Plotly) { window.PLOTLYENV=window.PLOTLYENV || {};window.PLOTLYENV.BASE_URL=\"https://plot.ly\";Plotly.newPlot(\"8572a19e-e3a9-42be-8982-87f5380e7b95\", [{\"labels\": [\"DICA\", \"WASHINGTON REIS\", \"Absten\\u00e7\\u00f5es\", \"Brancos\", \"Nulos\"], \"textinfo\": \"percent+value+label\", \"values\": [184230, 217800, 149714, 18337, 58083], \"type\": \"pie\", \"uid\": \"ba4192a4-e1b0-11e8-9928-5cc9d399d62a\"}], {\"title\": \"Proporcao de eleitores em votos por candidato e desconsiderados\"}, {\"showLink\": true, \"linkText\": \"Export to plot.ly\"})});</script>"
      ]
     },
     "metadata": {},
     "output_type": "display_data"
    }
   ],
   "source": [
    "values = [cand1.get('votes'), cand2.get('votes'), total_abstencoes, total_brancos, total_nulos]\n",
    "labels = [ cand1.get('name'), cand2.get('name'), 'Abstenções', 'Brancos', 'Nulos' ]\n",
    "\n",
    "title = 'Proporcao de eleitores em votos por candidato e desconsiderados'\n",
    "fig = generatePieChart(go=go, labels=labels, values=values, title=title)\n",
    "py.iplot(fig)"
   ]
  },
  {
   "cell_type": "markdown",
   "metadata": {},
   "source": [
    "### Visualizando os dados por zona"
   ]
  },
  {
   "cell_type": "markdown",
   "metadata": {},
   "source": [
    "#### Proporção de eleitores considerados (votos válidos) em relação aos não considerados"
   ]
  },
  {
   "cell_type": "code",
   "execution_count": 7,
   "metadata": {},
   "outputs": [
    {
     "data": {
      "application/vnd.plotly.v1+json": {
       "data": [
        {
         "name": "Válidos",
         "type": "bar",
         "uid": "668cc78f-e1a8-11e8-9928-5cc9d399d62a",
         "x": [
          "Z-66",
          "Z-77",
          "Z-78",
          "Z-79",
          "Z-103",
          "Z-126",
          "Z-127",
          "Z-128",
          "Z-194",
          "Z-200"
         ],
         "y": [
          61.326262788579996,
          63.59515715393332,
          64.35028172249321,
          65.52715476257062,
          62.75046396778963,
          63.20511559272012,
          62.72070488603809,
          69.05735574423844,
          63.1549623926862,
          63.208795219196205
         ]
        },
        {
         "name": "Não Considerados",
         "type": "bar",
         "uid": "668cc790-e1a8-11e8-9928-5cc9d399d62a",
         "x": [
          "Z-66",
          "Z-77",
          "Z-78",
          "Z-79",
          "Z-103",
          "Z-126",
          "Z-127",
          "Z-128",
          "Z-194",
          "Z-200"
         ],
         "y": [
          38.673737211420004,
          36.40484284606668,
          35.64971827750679,
          34.47284523742938,
          37.24953603221037,
          36.79488440727988,
          37.2792951139619,
          30.942644255761564,
          36.8450376073138,
          36.791204780803795
         ]
        }
       ],
       "layout": {
        "barmode": "stack",
        "title": "Proporção de eleitores em votos válidos e não considerados",
        "xaxis": {
         "title": "Zonas"
        },
        "yaxis": {
         "title": "% de registros"
        }
       }
      },
      "text/html": [
       "<div id=\"01b0662b-003a-44f0-94d5-28f519915a17\" style=\"height: 525px; width: 100%;\" class=\"plotly-graph-div\"></div><script type=\"text/javascript\">require([\"plotly\"], function(Plotly) { window.PLOTLYENV=window.PLOTLYENV || {};window.PLOTLYENV.BASE_URL=\"https://plot.ly\";Plotly.newPlot(\"01b0662b-003a-44f0-94d5-28f519915a17\", [{\"name\": \"V\\u00e1lidos\", \"x\": [\"Z-66\", \"Z-77\", \"Z-78\", \"Z-79\", \"Z-103\", \"Z-126\", \"Z-127\", \"Z-128\", \"Z-194\", \"Z-200\"], \"y\": [61.326262788579996, 63.59515715393332, 64.35028172249321, 65.52715476257062, 62.75046396778963, 63.20511559272012, 62.72070488603809, 69.05735574423844, 63.1549623926862, 63.208795219196205], \"type\": \"bar\", \"uid\": \"668cc78f-e1a8-11e8-9928-5cc9d399d62a\"}, {\"name\": \"N\\u00e3o Considerados\", \"x\": [\"Z-66\", \"Z-77\", \"Z-78\", \"Z-79\", \"Z-103\", \"Z-126\", \"Z-127\", \"Z-128\", \"Z-194\", \"Z-200\"], \"y\": [38.673737211420004, 36.40484284606668, 35.64971827750679, 34.47284523742938, 37.24953603221037, 36.79488440727988, 37.2792951139619, 30.942644255761564, 36.8450376073138, 36.791204780803795], \"type\": \"bar\", \"uid\": \"668cc790-e1a8-11e8-9928-5cc9d399d62a\"}], {\"barmode\": \"stack\", \"title\": \"Propor\\u00e7\\u00e3o de eleitores em votos v\\u00e1lidos e n\\u00e3o considerados\", \"xaxis\": {\"title\": \"Zonas\"}, \"yaxis\": {\"title\": \"% de registros\"}}, {\"showLink\": true, \"linkText\": \"Export to plot.ly\"})});</script>"
      ],
      "text/vnd.plotly.v1+html": [
       "<div id=\"01b0662b-003a-44f0-94d5-28f519915a17\" style=\"height: 525px; width: 100%;\" class=\"plotly-graph-div\"></div><script type=\"text/javascript\">require([\"plotly\"], function(Plotly) { window.PLOTLYENV=window.PLOTLYENV || {};window.PLOTLYENV.BASE_URL=\"https://plot.ly\";Plotly.newPlot(\"01b0662b-003a-44f0-94d5-28f519915a17\", [{\"name\": \"V\\u00e1lidos\", \"x\": [\"Z-66\", \"Z-77\", \"Z-78\", \"Z-79\", \"Z-103\", \"Z-126\", \"Z-127\", \"Z-128\", \"Z-194\", \"Z-200\"], \"y\": [61.326262788579996, 63.59515715393332, 64.35028172249321, 65.52715476257062, 62.75046396778963, 63.20511559272012, 62.72070488603809, 69.05735574423844, 63.1549623926862, 63.208795219196205], \"type\": \"bar\", \"uid\": \"668cc78f-e1a8-11e8-9928-5cc9d399d62a\"}, {\"name\": \"N\\u00e3o Considerados\", \"x\": [\"Z-66\", \"Z-77\", \"Z-78\", \"Z-79\", \"Z-103\", \"Z-126\", \"Z-127\", \"Z-128\", \"Z-194\", \"Z-200\"], \"y\": [38.673737211420004, 36.40484284606668, 35.64971827750679, 34.47284523742938, 37.24953603221037, 36.79488440727988, 37.2792951139619, 30.942644255761564, 36.8450376073138, 36.791204780803795], \"type\": \"bar\", \"uid\": \"668cc790-e1a8-11e8-9928-5cc9d399d62a\"}], {\"barmode\": \"stack\", \"title\": \"Propor\\u00e7\\u00e3o de eleitores em votos v\\u00e1lidos e n\\u00e3o considerados\", \"xaxis\": {\"title\": \"Zonas\"}, \"yaxis\": {\"title\": \"% de registros\"}}, {\"showLink\": true, \"linkText\": \"Export to plot.ly\"})});</script>"
      ]
     },
     "metadata": {},
     "output_type": "display_data"
    }
   ],
   "source": [
    "agrupado_por_zona = getConsolidateNumbersByZona(df_detalhe)\n",
    "zonas = agrupado_por_zona.index.values\n",
    "\n",
    "_zonas = list(map(lambda z : 'Z-{}'.format(z), zonas))\n",
    "\n",
    "props = ['votos_nominais', 'nao_considerados']\n",
    "labels = { 'votos_nominais': 'Válidos', 'nao_considerados': 'Não Considerados' }\n",
    "title = 'Proporção de eleitores em votos válidos e não considerados'\n",
    "traces = generateDataToStackedBar(go=go, x=_zonas, props=props, labels=labels, df=agrupado_por_zona)\n",
    "fig = generatedStackedBar(go=go, data=traces, title=title, x='Zonas', y='% de registros')\n",
    "py.iplot(fig)"
   ]
  },
  {
   "cell_type": "markdown",
   "metadata": {},
   "source": [
    "#### Visualizando a divisão entre os não considerados"
   ]
  },
  {
   "cell_type": "code",
   "execution_count": 27,
   "metadata": {
    "scrolled": false
   },
   "outputs": [
    {
     "data": {
      "application/vnd.plotly.v1+json": {
       "data": [
        {
         "name": "Nominais",
         "type": "bar",
         "uid": "ce9e5944-e1b0-11e8-9928-5cc9d399d62a",
         "x": [
          "Z-66",
          "Z-77",
          "Z-78",
          "Z-79",
          "Z-103",
          "Z-126",
          "Z-127",
          "Z-128",
          "Z-194",
          "Z-200"
         ],
         "y": [
          61.326262788579996,
          63.59515715393332,
          64.35028172249321,
          65.52715476257062,
          62.75046396778963,
          63.20511559272012,
          62.72070488603809,
          69.05735574423844,
          63.1549623926862,
          63.208795219196205
         ]
        },
        {
         "name": "Abstencoes",
         "type": "bar",
         "uid": "ce9e5945-e1b0-11e8-9928-5cc9d399d62a",
         "x": [
          "Z-66",
          "Z-77",
          "Z-78",
          "Z-79",
          "Z-103",
          "Z-126",
          "Z-127",
          "Z-128",
          "Z-194",
          "Z-200"
         ],
         "y": [
          27.312657346403128,
          25.41599570585078,
          23.960599386561093,
          22.920745008110075,
          26.661633795728353,
          22.653221839645845,
          23.28885946791148,
          20.965170680991164,
          23.395041406032366,
          25.201861228958535
         ]
        },
        {
         "name": "Brancos",
         "type": "bar",
         "uid": "ce9e5946-e1b0-11e8-9928-5cc9d399d62a",
         "x": [
          "Z-66",
          "Z-77",
          "Z-78",
          "Z-79",
          "Z-103",
          "Z-126",
          "Z-127",
          "Z-128",
          "Z-194",
          "Z-200"
         ],
         "y": [
          2.4130912207402644,
          2.78821494602493,
          2.7185882798038077,
          3.0113541025784443,
          2.2443458840552357,
          3.3999016232169206,
          3.7572617186162507,
          2.207589672500433,
          3.087091954314078,
          2.575156242872132
         ]
        },
        {
         "name": "Nulos",
         "type": "bar",
         "uid": "ce9e5947-e1b0-11e8-9928-5cc9d399d62a",
         "x": [
          "Z-66",
          "Z-77",
          "Z-78",
          "Z-79",
          "Z-103",
          "Z-126",
          "Z-127",
          "Z-128",
          "Z-194",
          "Z-200"
         ],
         "y": [
          8.947988644276608,
          8.200632194190971,
          8.97053061114189,
          8.540746126740869,
          8.343556352426788,
          10.741760944417116,
          10.233173927434173,
          7.769883902269971,
          10.362904246967357,
          9.01418730897313
         ]
        }
       ],
       "layout": {
        "barmode": "stack",
        "title": "Proporção de eleitores em votos válidos e divisão dos não considerados",
        "xaxis": {
         "title": "Zonas"
        },
        "yaxis": {
         "title": "% de registros"
        }
       }
      },
      "text/html": [
       "<div id=\"cee34936-f494-45f3-87af-72ba2bc840d6\" style=\"height: 525px; width: 100%;\" class=\"plotly-graph-div\"></div><script type=\"text/javascript\">require([\"plotly\"], function(Plotly) { window.PLOTLYENV=window.PLOTLYENV || {};window.PLOTLYENV.BASE_URL=\"https://plot.ly\";Plotly.newPlot(\"cee34936-f494-45f3-87af-72ba2bc840d6\", [{\"name\": \"Nominais\", \"x\": [\"Z-66\", \"Z-77\", \"Z-78\", \"Z-79\", \"Z-103\", \"Z-126\", \"Z-127\", \"Z-128\", \"Z-194\", \"Z-200\"], \"y\": [61.326262788579996, 63.59515715393332, 64.35028172249321, 65.52715476257062, 62.75046396778963, 63.20511559272012, 62.72070488603809, 69.05735574423844, 63.1549623926862, 63.208795219196205], \"type\": \"bar\", \"uid\": \"ce9e5944-e1b0-11e8-9928-5cc9d399d62a\"}, {\"name\": \"Abstencoes\", \"x\": [\"Z-66\", \"Z-77\", \"Z-78\", \"Z-79\", \"Z-103\", \"Z-126\", \"Z-127\", \"Z-128\", \"Z-194\", \"Z-200\"], \"y\": [27.312657346403128, 25.41599570585078, 23.960599386561093, 22.920745008110075, 26.661633795728353, 22.653221839645845, 23.28885946791148, 20.965170680991164, 23.395041406032366, 25.201861228958535], \"type\": \"bar\", \"uid\": \"ce9e5945-e1b0-11e8-9928-5cc9d399d62a\"}, {\"name\": \"Brancos\", \"x\": [\"Z-66\", \"Z-77\", \"Z-78\", \"Z-79\", \"Z-103\", \"Z-126\", \"Z-127\", \"Z-128\", \"Z-194\", \"Z-200\"], \"y\": [2.4130912207402644, 2.78821494602493, 2.7185882798038077, 3.0113541025784443, 2.2443458840552357, 3.3999016232169206, 3.7572617186162507, 2.207589672500433, 3.087091954314078, 2.575156242872132], \"type\": \"bar\", \"uid\": \"ce9e5946-e1b0-11e8-9928-5cc9d399d62a\"}, {\"name\": \"Nulos\", \"x\": [\"Z-66\", \"Z-77\", \"Z-78\", \"Z-79\", \"Z-103\", \"Z-126\", \"Z-127\", \"Z-128\", \"Z-194\", \"Z-200\"], \"y\": [8.947988644276608, 8.200632194190971, 8.97053061114189, 8.540746126740869, 8.343556352426788, 10.741760944417116, 10.233173927434173, 7.769883902269971, 10.362904246967357, 9.01418730897313], \"type\": \"bar\", \"uid\": \"ce9e5947-e1b0-11e8-9928-5cc9d399d62a\"}], {\"barmode\": \"stack\", \"title\": \"Propor\\u00e7\\u00e3o de eleitores em votos v\\u00e1lidos e divis\\u00e3o dos n\\u00e3o considerados\", \"xaxis\": {\"title\": \"Zonas\"}, \"yaxis\": {\"title\": \"% de registros\"}}, {\"showLink\": true, \"linkText\": \"Export to plot.ly\"})});</script>"
      ],
      "text/vnd.plotly.v1+html": [
       "<div id=\"cee34936-f494-45f3-87af-72ba2bc840d6\" style=\"height: 525px; width: 100%;\" class=\"plotly-graph-div\"></div><script type=\"text/javascript\">require([\"plotly\"], function(Plotly) { window.PLOTLYENV=window.PLOTLYENV || {};window.PLOTLYENV.BASE_URL=\"https://plot.ly\";Plotly.newPlot(\"cee34936-f494-45f3-87af-72ba2bc840d6\", [{\"name\": \"Nominais\", \"x\": [\"Z-66\", \"Z-77\", \"Z-78\", \"Z-79\", \"Z-103\", \"Z-126\", \"Z-127\", \"Z-128\", \"Z-194\", \"Z-200\"], \"y\": [61.326262788579996, 63.59515715393332, 64.35028172249321, 65.52715476257062, 62.75046396778963, 63.20511559272012, 62.72070488603809, 69.05735574423844, 63.1549623926862, 63.208795219196205], \"type\": \"bar\", \"uid\": \"ce9e5944-e1b0-11e8-9928-5cc9d399d62a\"}, {\"name\": \"Abstencoes\", \"x\": [\"Z-66\", \"Z-77\", \"Z-78\", \"Z-79\", \"Z-103\", \"Z-126\", \"Z-127\", \"Z-128\", \"Z-194\", \"Z-200\"], \"y\": [27.312657346403128, 25.41599570585078, 23.960599386561093, 22.920745008110075, 26.661633795728353, 22.653221839645845, 23.28885946791148, 20.965170680991164, 23.395041406032366, 25.201861228958535], \"type\": \"bar\", \"uid\": \"ce9e5945-e1b0-11e8-9928-5cc9d399d62a\"}, {\"name\": \"Brancos\", \"x\": [\"Z-66\", \"Z-77\", \"Z-78\", \"Z-79\", \"Z-103\", \"Z-126\", \"Z-127\", \"Z-128\", \"Z-194\", \"Z-200\"], \"y\": [2.4130912207402644, 2.78821494602493, 2.7185882798038077, 3.0113541025784443, 2.2443458840552357, 3.3999016232169206, 3.7572617186162507, 2.207589672500433, 3.087091954314078, 2.575156242872132], \"type\": \"bar\", \"uid\": \"ce9e5946-e1b0-11e8-9928-5cc9d399d62a\"}, {\"name\": \"Nulos\", \"x\": [\"Z-66\", \"Z-77\", \"Z-78\", \"Z-79\", \"Z-103\", \"Z-126\", \"Z-127\", \"Z-128\", \"Z-194\", \"Z-200\"], \"y\": [8.947988644276608, 8.200632194190971, 8.97053061114189, 8.540746126740869, 8.343556352426788, 10.741760944417116, 10.233173927434173, 7.769883902269971, 10.362904246967357, 9.01418730897313], \"type\": \"bar\", \"uid\": \"ce9e5947-e1b0-11e8-9928-5cc9d399d62a\"}], {\"barmode\": \"stack\", \"title\": \"Propor\\u00e7\\u00e3o de eleitores em votos v\\u00e1lidos e divis\\u00e3o dos n\\u00e3o considerados\", \"xaxis\": {\"title\": \"Zonas\"}, \"yaxis\": {\"title\": \"% de registros\"}}, {\"showLink\": true, \"linkText\": \"Export to plot.ly\"})});</script>"
      ]
     },
     "metadata": {},
     "output_type": "display_data"
    }
   ],
   "source": [
    "title = 'Proporção de eleitores em votos válidos e divisão dos não considerados'\n",
    "props = ['votos_nominais', 'abstencoes', 'votos_brancos', 'votos_nulos']\n",
    "labels = { 'votos_nominais': 'Nominais', 'abstencoes' : 'Abstencoes', 'votos_brancos': 'Brancos', 'votos_nulos': 'Nulos' }\n",
    "traces = generateDataToStackedBar(go=go, x=_zonas, props=props, labels=labels, df=agrupado_por_zona)\n",
    "fig = generatedStackedBar(go=go, data=traces, title=title, x='Zonas', y='% de registros')\n",
    "py.iplot(fig)"
   ]
  },
  {
   "cell_type": "markdown",
   "metadata": {},
   "source": [
    "#### Visualização com a distribuição dos votos dos candidatos em segundo turno em relação aos votos não considerados"
   ]
  },
  {
   "cell_type": "code",
   "execution_count": 21,
   "metadata": {},
   "outputs": [
    {
     "data": {
      "application/vnd.plotly.v1+json": {
       "data": [
        {
         "name": "Não considerados",
         "type": "bar",
         "uid": "f45cb15a-e1ae-11e8-9928-5cc9d399d62a",
         "x": [
          "Z-66",
          "Z-77",
          "Z-78",
          "Z-79",
          "Z-103",
          "Z-126",
          "Z-127",
          "Z-128",
          "Z-194",
          "Z-200"
         ],
         "y": [
          38.673737211420004,
          36.40484284606668,
          35.64971827750679,
          34.47284523742938,
          37.24953603221037,
          36.79488440727988,
          37.2792951139619,
          30.942644255761564,
          36.8450376073138,
          36.791204780803795
         ]
        },
        {
         "name": "DICA",
         "type": "bar",
         "uid": "f45cb15b-e1ae-11e8-9928-5cc9d399d62a",
         "x": [
          "Z-66",
          "Z-77",
          "Z-78",
          "Z-79",
          "Z-103",
          "Z-126",
          "Z-127",
          "Z-128",
          "Z-194",
          "Z-200"
         ],
         "y": [
          36.051743532058495,
          30.53617224309656,
          29.38021051493737,
          34.262542647799094,
          39.83517347677015,
          26.745696015740283,
          22.564114270061747,
          15.697452781147113,
          31.74462481322967,
          32.56466402080197
         ]
        },
        {
         "name": "WASHINGTON REIS",
         "type": "bar",
         "uid": "f45cb15c-e1ae-11e8-9928-5cc9d399d62a",
         "x": [
          "Z-66",
          "Z-77",
          "Z-78",
          "Z-79",
          "Z-103",
          "Z-126",
          "Z-127",
          "Z-128",
          "Z-194",
          "Z-200"
         ],
         "y": [
          25.274519256521504,
          33.05898491083676,
          34.97007120755583,
          31.264612114771516,
          22.915290491019473,
          36.45941957697983,
          40.15659061597635,
          53.35990296309132,
          31.41033757945653,
          30.644131198394238
         ]
        }
       ],
       "layout": {
        "barmode": "stack",
        "title": "Proporção de eleitores que votaram em algum candidato e os que foram não considerados",
        "xaxis": {
         "title": "Zonas"
        },
        "yaxis": {
         "title": "% de registros"
        }
       }
      },
      "text/html": [
       "<div id=\"04dd0066-4b66-4e6a-8401-eebf4d099596\" style=\"height: 525px; width: 100%;\" class=\"plotly-graph-div\"></div><script type=\"text/javascript\">require([\"plotly\"], function(Plotly) { window.PLOTLYENV=window.PLOTLYENV || {};window.PLOTLYENV.BASE_URL=\"https://plot.ly\";Plotly.newPlot(\"04dd0066-4b66-4e6a-8401-eebf4d099596\", [{\"name\": \"N\\u00e3o considerados\", \"x\": [\"Z-66\", \"Z-77\", \"Z-78\", \"Z-79\", \"Z-103\", \"Z-126\", \"Z-127\", \"Z-128\", \"Z-194\", \"Z-200\"], \"y\": [38.673737211420004, 36.40484284606668, 35.64971827750679, 34.47284523742938, 37.24953603221037, 36.79488440727988, 37.2792951139619, 30.942644255761564, 36.8450376073138, 36.791204780803795], \"type\": \"bar\", \"uid\": \"f45cb15a-e1ae-11e8-9928-5cc9d399d62a\"}, {\"name\": \"DICA\", \"x\": [\"Z-66\", \"Z-77\", \"Z-78\", \"Z-79\", \"Z-103\", \"Z-126\", \"Z-127\", \"Z-128\", \"Z-194\", \"Z-200\"], \"y\": [36.051743532058495, 30.53617224309656, 29.38021051493737, 34.262542647799094, 39.83517347677015, 26.745696015740283, 22.564114270061747, 15.697452781147113, 31.74462481322967, 32.56466402080197], \"type\": \"bar\", \"uid\": \"f45cb15b-e1ae-11e8-9928-5cc9d399d62a\"}, {\"name\": \"WASHINGTON REIS\", \"x\": [\"Z-66\", \"Z-77\", \"Z-78\", \"Z-79\", \"Z-103\", \"Z-126\", \"Z-127\", \"Z-128\", \"Z-194\", \"Z-200\"], \"y\": [25.274519256521504, 33.05898491083676, 34.97007120755583, 31.264612114771516, 22.915290491019473, 36.45941957697983, 40.15659061597635, 53.35990296309132, 31.41033757945653, 30.644131198394238], \"type\": \"bar\", \"uid\": \"f45cb15c-e1ae-11e8-9928-5cc9d399d62a\"}], {\"barmode\": \"stack\", \"title\": \"Propor\\u00e7\\u00e3o de eleitores que votaram em algum candidato e os que foram n\\u00e3o considerados\", \"xaxis\": {\"title\": \"Zonas\"}, \"yaxis\": {\"title\": \"% de registros\"}}, {\"showLink\": true, \"linkText\": \"Export to plot.ly\"})});</script>"
      ],
      "text/vnd.plotly.v1+html": [
       "<div id=\"04dd0066-4b66-4e6a-8401-eebf4d099596\" style=\"height: 525px; width: 100%;\" class=\"plotly-graph-div\"></div><script type=\"text/javascript\">require([\"plotly\"], function(Plotly) { window.PLOTLYENV=window.PLOTLYENV || {};window.PLOTLYENV.BASE_URL=\"https://plot.ly\";Plotly.newPlot(\"04dd0066-4b66-4e6a-8401-eebf4d099596\", [{\"name\": \"N\\u00e3o considerados\", \"x\": [\"Z-66\", \"Z-77\", \"Z-78\", \"Z-79\", \"Z-103\", \"Z-126\", \"Z-127\", \"Z-128\", \"Z-194\", \"Z-200\"], \"y\": [38.673737211420004, 36.40484284606668, 35.64971827750679, 34.47284523742938, 37.24953603221037, 36.79488440727988, 37.2792951139619, 30.942644255761564, 36.8450376073138, 36.791204780803795], \"type\": \"bar\", \"uid\": \"f45cb15a-e1ae-11e8-9928-5cc9d399d62a\"}, {\"name\": \"DICA\", \"x\": [\"Z-66\", \"Z-77\", \"Z-78\", \"Z-79\", \"Z-103\", \"Z-126\", \"Z-127\", \"Z-128\", \"Z-194\", \"Z-200\"], \"y\": [36.051743532058495, 30.53617224309656, 29.38021051493737, 34.262542647799094, 39.83517347677015, 26.745696015740283, 22.564114270061747, 15.697452781147113, 31.74462481322967, 32.56466402080197], \"type\": \"bar\", \"uid\": \"f45cb15b-e1ae-11e8-9928-5cc9d399d62a\"}, {\"name\": \"WASHINGTON REIS\", \"x\": [\"Z-66\", \"Z-77\", \"Z-78\", \"Z-79\", \"Z-103\", \"Z-126\", \"Z-127\", \"Z-128\", \"Z-194\", \"Z-200\"], \"y\": [25.274519256521504, 33.05898491083676, 34.97007120755583, 31.264612114771516, 22.915290491019473, 36.45941957697983, 40.15659061597635, 53.35990296309132, 31.41033757945653, 30.644131198394238], \"type\": \"bar\", \"uid\": \"f45cb15c-e1ae-11e8-9928-5cc9d399d62a\"}], {\"barmode\": \"stack\", \"title\": \"Propor\\u00e7\\u00e3o de eleitores que votaram em algum candidato e os que foram n\\u00e3o considerados\", \"xaxis\": {\"title\": \"Zonas\"}, \"yaxis\": {\"title\": \"% de registros\"}}, {\"showLink\": true, \"linkText\": \"Export to plot.ly\"})});</script>"
      ]
     },
     "metadata": {},
     "output_type": "display_data"
    }
   ],
   "source": [
    "dfl = getConsolidateInformationByZona(agrupado_por_zona, df_votacao_candidato).groupby('zona').sum()\n",
    "\n",
    "title = 'Proporção de eleitores que votaram em algum candidato e os que foram não considerados'\n",
    "props = ['nao_considerados', 'DICA', 'WASHINGTON REIS']\n",
    "labels = {\n",
    "    'nao_considerados' : 'Não considerados',\n",
    "    'DICA': 'DICA',\n",
    "    'WASHINGTON REIS': 'WASHINGTON REIS'\n",
    "}\n",
    "traces = generateDataToStackedBar(go=go, x=_zonas, props=props, labels=labels, df=dfl)\n",
    "fig = generatedStackedBar(go=go, data=traces, title=title, x='Zonas', y='% de registros')\n",
    "py.iplot(fig)"
   ]
  },
  {
   "cell_type": "markdown",
   "metadata": {},
   "source": [
    "#### Visualização com a distribuição dos votos dos candidatos em segundo turno em relação aos demais votos"
   ]
  },
  {
   "cell_type": "code",
   "execution_count": 20,
   "metadata": {},
   "outputs": [
    {
     "data": {
      "application/vnd.plotly.v1+json": {
       "data": [
        {
         "name": "Abstencoes",
         "type": "bar",
         "uid": "e84fdb58-e1ae-11e8-9928-5cc9d399d62a",
         "x": [
          "Z-66",
          "Z-77",
          "Z-78",
          "Z-79",
          "Z-103",
          "Z-126",
          "Z-127",
          "Z-128",
          "Z-194",
          "Z-200"
         ],
         "y": [
          27.312657346403128,
          25.41599570585078,
          23.960599386561093,
          22.920745008110075,
          26.661633795728353,
          22.653221839645845,
          23.28885946791148,
          20.965170680991164,
          23.395041406032366,
          25.201861228958535
         ]
        },
        {
         "name": "Brancos",
         "type": "bar",
         "uid": "e84fdb59-e1ae-11e8-9928-5cc9d399d62a",
         "x": [
          "Z-66",
          "Z-77",
          "Z-78",
          "Z-79",
          "Z-103",
          "Z-126",
          "Z-127",
          "Z-128",
          "Z-194",
          "Z-200"
         ],
         "y": [
          2.4130912207402644,
          2.78821494602493,
          2.7185882798038077,
          3.0113541025784443,
          2.2443458840552357,
          3.3999016232169206,
          3.7572617186162507,
          2.207589672500433,
          3.087091954314078,
          2.575156242872132
         ]
        },
        {
         "name": "Nulos",
         "type": "bar",
         "uid": "e84fdb5a-e1ae-11e8-9928-5cc9d399d62a",
         "x": [
          "Z-66",
          "Z-77",
          "Z-78",
          "Z-79",
          "Z-103",
          "Z-126",
          "Z-127",
          "Z-128",
          "Z-194",
          "Z-200"
         ],
         "y": [
          8.947988644276608,
          8.200632194190971,
          8.97053061114189,
          8.540746126740869,
          8.343556352426788,
          10.741760944417116,
          10.233173927434173,
          7.769883902269971,
          10.362904246967357,
          9.01418730897313
         ]
        },
        {
         "name": "DICA",
         "type": "bar",
         "uid": "e84fdb5b-e1ae-11e8-9928-5cc9d399d62a",
         "x": [
          "Z-66",
          "Z-77",
          "Z-78",
          "Z-79",
          "Z-103",
          "Z-126",
          "Z-127",
          "Z-128",
          "Z-194",
          "Z-200"
         ],
         "y": [
          36.051743532058495,
          30.53617224309656,
          29.38021051493737,
          34.262542647799094,
          39.83517347677015,
          26.745696015740283,
          22.564114270061747,
          15.697452781147113,
          31.74462481322967,
          32.56466402080197
         ]
        },
        {
         "name": "WASHINGTON REIS",
         "type": "bar",
         "uid": "e84fdb5c-e1ae-11e8-9928-5cc9d399d62a",
         "x": [
          "Z-66",
          "Z-77",
          "Z-78",
          "Z-79",
          "Z-103",
          "Z-126",
          "Z-127",
          "Z-128",
          "Z-194",
          "Z-200"
         ],
         "y": [
          25.274519256521504,
          33.05898491083676,
          34.97007120755583,
          31.264612114771516,
          22.915290491019473,
          36.45941957697983,
          40.15659061597635,
          53.35990296309132,
          31.41033757945653,
          30.644131198394238
         ]
        }
       ],
       "layout": {
        "barmode": "stack",
        "title": "Proporção de eleitores que votaram em algum candidato em votos brancos, nulos e abstenções",
        "xaxis": {
         "title": "Zonas"
        },
        "yaxis": {
         "title": "% de registros"
        }
       }
      },
      "text/html": [
       "<div id=\"07dcdd46-5e7b-486d-931f-445da1f012ed\" style=\"height: 525px; width: 100%;\" class=\"plotly-graph-div\"></div><script type=\"text/javascript\">require([\"plotly\"], function(Plotly) { window.PLOTLYENV=window.PLOTLYENV || {};window.PLOTLYENV.BASE_URL=\"https://plot.ly\";Plotly.newPlot(\"07dcdd46-5e7b-486d-931f-445da1f012ed\", [{\"name\": \"Abstencoes\", \"x\": [\"Z-66\", \"Z-77\", \"Z-78\", \"Z-79\", \"Z-103\", \"Z-126\", \"Z-127\", \"Z-128\", \"Z-194\", \"Z-200\"], \"y\": [27.312657346403128, 25.41599570585078, 23.960599386561093, 22.920745008110075, 26.661633795728353, 22.653221839645845, 23.28885946791148, 20.965170680991164, 23.395041406032366, 25.201861228958535], \"type\": \"bar\", \"uid\": \"e84fdb58-e1ae-11e8-9928-5cc9d399d62a\"}, {\"name\": \"Brancos\", \"x\": [\"Z-66\", \"Z-77\", \"Z-78\", \"Z-79\", \"Z-103\", \"Z-126\", \"Z-127\", \"Z-128\", \"Z-194\", \"Z-200\"], \"y\": [2.4130912207402644, 2.78821494602493, 2.7185882798038077, 3.0113541025784443, 2.2443458840552357, 3.3999016232169206, 3.7572617186162507, 2.207589672500433, 3.087091954314078, 2.575156242872132], \"type\": \"bar\", \"uid\": \"e84fdb59-e1ae-11e8-9928-5cc9d399d62a\"}, {\"name\": \"Nulos\", \"x\": [\"Z-66\", \"Z-77\", \"Z-78\", \"Z-79\", \"Z-103\", \"Z-126\", \"Z-127\", \"Z-128\", \"Z-194\", \"Z-200\"], \"y\": [8.947988644276608, 8.200632194190971, 8.97053061114189, 8.540746126740869, 8.343556352426788, 10.741760944417116, 10.233173927434173, 7.769883902269971, 10.362904246967357, 9.01418730897313], \"type\": \"bar\", \"uid\": \"e84fdb5a-e1ae-11e8-9928-5cc9d399d62a\"}, {\"name\": \"DICA\", \"x\": [\"Z-66\", \"Z-77\", \"Z-78\", \"Z-79\", \"Z-103\", \"Z-126\", \"Z-127\", \"Z-128\", \"Z-194\", \"Z-200\"], \"y\": [36.051743532058495, 30.53617224309656, 29.38021051493737, 34.262542647799094, 39.83517347677015, 26.745696015740283, 22.564114270061747, 15.697452781147113, 31.74462481322967, 32.56466402080197], \"type\": \"bar\", \"uid\": \"e84fdb5b-e1ae-11e8-9928-5cc9d399d62a\"}, {\"name\": \"WASHINGTON REIS\", \"x\": [\"Z-66\", \"Z-77\", \"Z-78\", \"Z-79\", \"Z-103\", \"Z-126\", \"Z-127\", \"Z-128\", \"Z-194\", \"Z-200\"], \"y\": [25.274519256521504, 33.05898491083676, 34.97007120755583, 31.264612114771516, 22.915290491019473, 36.45941957697983, 40.15659061597635, 53.35990296309132, 31.41033757945653, 30.644131198394238], \"type\": \"bar\", \"uid\": \"e84fdb5c-e1ae-11e8-9928-5cc9d399d62a\"}], {\"barmode\": \"stack\", \"title\": \"Propor\\u00e7\\u00e3o de eleitores que votaram em algum candidato em votos brancos, nulos e absten\\u00e7\\u00f5es\", \"xaxis\": {\"title\": \"Zonas\"}, \"yaxis\": {\"title\": \"% de registros\"}}, {\"showLink\": true, \"linkText\": \"Export to plot.ly\"})});</script>"
      ],
      "text/vnd.plotly.v1+html": [
       "<div id=\"07dcdd46-5e7b-486d-931f-445da1f012ed\" style=\"height: 525px; width: 100%;\" class=\"plotly-graph-div\"></div><script type=\"text/javascript\">require([\"plotly\"], function(Plotly) { window.PLOTLYENV=window.PLOTLYENV || {};window.PLOTLYENV.BASE_URL=\"https://plot.ly\";Plotly.newPlot(\"07dcdd46-5e7b-486d-931f-445da1f012ed\", [{\"name\": \"Abstencoes\", \"x\": [\"Z-66\", \"Z-77\", \"Z-78\", \"Z-79\", \"Z-103\", \"Z-126\", \"Z-127\", \"Z-128\", \"Z-194\", \"Z-200\"], \"y\": [27.312657346403128, 25.41599570585078, 23.960599386561093, 22.920745008110075, 26.661633795728353, 22.653221839645845, 23.28885946791148, 20.965170680991164, 23.395041406032366, 25.201861228958535], \"type\": \"bar\", \"uid\": \"e84fdb58-e1ae-11e8-9928-5cc9d399d62a\"}, {\"name\": \"Brancos\", \"x\": [\"Z-66\", \"Z-77\", \"Z-78\", \"Z-79\", \"Z-103\", \"Z-126\", \"Z-127\", \"Z-128\", \"Z-194\", \"Z-200\"], \"y\": [2.4130912207402644, 2.78821494602493, 2.7185882798038077, 3.0113541025784443, 2.2443458840552357, 3.3999016232169206, 3.7572617186162507, 2.207589672500433, 3.087091954314078, 2.575156242872132], \"type\": \"bar\", \"uid\": \"e84fdb59-e1ae-11e8-9928-5cc9d399d62a\"}, {\"name\": \"Nulos\", \"x\": [\"Z-66\", \"Z-77\", \"Z-78\", \"Z-79\", \"Z-103\", \"Z-126\", \"Z-127\", \"Z-128\", \"Z-194\", \"Z-200\"], \"y\": [8.947988644276608, 8.200632194190971, 8.97053061114189, 8.540746126740869, 8.343556352426788, 10.741760944417116, 10.233173927434173, 7.769883902269971, 10.362904246967357, 9.01418730897313], \"type\": \"bar\", \"uid\": \"e84fdb5a-e1ae-11e8-9928-5cc9d399d62a\"}, {\"name\": \"DICA\", \"x\": [\"Z-66\", \"Z-77\", \"Z-78\", \"Z-79\", \"Z-103\", \"Z-126\", \"Z-127\", \"Z-128\", \"Z-194\", \"Z-200\"], \"y\": [36.051743532058495, 30.53617224309656, 29.38021051493737, 34.262542647799094, 39.83517347677015, 26.745696015740283, 22.564114270061747, 15.697452781147113, 31.74462481322967, 32.56466402080197], \"type\": \"bar\", \"uid\": \"e84fdb5b-e1ae-11e8-9928-5cc9d399d62a\"}, {\"name\": \"WASHINGTON REIS\", \"x\": [\"Z-66\", \"Z-77\", \"Z-78\", \"Z-79\", \"Z-103\", \"Z-126\", \"Z-127\", \"Z-128\", \"Z-194\", \"Z-200\"], \"y\": [25.274519256521504, 33.05898491083676, 34.97007120755583, 31.264612114771516, 22.915290491019473, 36.45941957697983, 40.15659061597635, 53.35990296309132, 31.41033757945653, 30.644131198394238], \"type\": \"bar\", \"uid\": \"e84fdb5c-e1ae-11e8-9928-5cc9d399d62a\"}], {\"barmode\": \"stack\", \"title\": \"Propor\\u00e7\\u00e3o de eleitores que votaram em algum candidato em votos brancos, nulos e absten\\u00e7\\u00f5es\", \"xaxis\": {\"title\": \"Zonas\"}, \"yaxis\": {\"title\": \"% de registros\"}}, {\"showLink\": true, \"linkText\": \"Export to plot.ly\"})});</script>"
      ]
     },
     "metadata": {},
     "output_type": "display_data"
    }
   ],
   "source": [
    "title = 'Proporção de eleitores que votaram em algum candidato em votos brancos, nulos e abstenções'\n",
    "props = ['abstencoes', 'votos_brancos', 'votos_nulos', 'DICA', 'WASHINGTON REIS']\n",
    "labels = {\n",
    "    'abstencoes' : 'Abstencoes',\n",
    "    'votos_brancos': 'Brancos',\n",
    "    'votos_nulos': 'Nulos',\n",
    "    'DICA': 'DICA',\n",
    "    'WASHINGTON REIS': 'WASHINGTON REIS'\n",
    "}\n",
    "traces = generateDataToStackedBar(go=go, x=_zonas, props=props, labels=labels, df=dfl)\n",
    "fig = generatedStackedBar(go=go, data=traces, title=title, x='Zonas', y='% de registros')\n",
    "py.iplot(fig)"
   ]
  },
  {
   "cell_type": "markdown",
   "metadata": {},
   "source": [
    "### Visualizando os dados por seção\n",
    "\n",
    "O objetivo aqui é trazer as dez seções com mais eleitores aptos"
   ]
  },
  {
   "cell_type": "markdown",
   "metadata": {},
   "source": [
    "#### Proporção de eleitores considerados (votos válidos) em relação aos não considerados"
   ]
  },
  {
   "cell_type": "code",
   "execution_count": 29,
   "metadata": {},
   "outputs": [
    {
     "data": {
      "application/vnd.plotly.v1+json": {
       "data": [
        {
         "name": "Válidos",
         "type": "bar",
         "uid": "f5bf27ec-e1b0-11e8-9928-5cc9d399d62a",
         "x": [
          "(z, s) - (66, 9)",
          "(z, s) - (66, 170)",
          "(z, s) - (79, 25)",
          "(z, s) - (79, 26)",
          "(z, s) - (79, 27)",
          "(z, s) - (79, 28)",
          "(z, s) - (79, 29)",
          "(z, s) - (79, 562)",
          "(z, s) - (79, 599)",
          "(z, s) - (200, 48)"
         ],
         "y": [
          54.32900432900433,
          61.5546218487395,
          62.98701298701299,
          62.10762331838565,
          65.05494505494505,
          59.1703056768559,
          61.30434782608696,
          71.70626349892008,
          68.12227074235808,
          57.7922077922078
         ]
        },
        {
         "name": "Não Considerados",
         "type": "bar",
         "uid": "f5bf27ed-e1b0-11e8-9928-5cc9d399d62a",
         "x": [
          "(z, s) - (66, 9)",
          "(z, s) - (66, 170)",
          "(z, s) - (79, 25)",
          "(z, s) - (79, 26)",
          "(z, s) - (79, 27)",
          "(z, s) - (79, 28)",
          "(z, s) - (79, 29)",
          "(z, s) - (79, 562)",
          "(z, s) - (79, 599)",
          "(z, s) - (200, 48)"
         ],
         "y": [
          45.67099567099567,
          38.445378151260506,
          37.01298701298701,
          37.89237668161435,
          34.94505494505494,
          40.8296943231441,
          38.69565217391304,
          28.293736501079913,
          31.877729257641924,
          42.2077922077922
         ]
        }
       ],
       "layout": {
        "barmode": "stack",
        "title": "Proporção de eleitores em votos válidos e não considerados (por seção)",
        "xaxis": {
         "title": "Zonas"
        },
        "yaxis": {
         "title": "% de registros"
        }
       }
      },
      "text/html": [
       "<div id=\"49e70ec8-4bd3-44a5-ac5c-bf47388f1b3f\" style=\"height: 525px; width: 100%;\" class=\"plotly-graph-div\"></div><script type=\"text/javascript\">require([\"plotly\"], function(Plotly) { window.PLOTLYENV=window.PLOTLYENV || {};window.PLOTLYENV.BASE_URL=\"https://plot.ly\";Plotly.newPlot(\"49e70ec8-4bd3-44a5-ac5c-bf47388f1b3f\", [{\"name\": \"V\\u00e1lidos\", \"x\": [\"(z, s) - (66, 9)\", \"(z, s) - (66, 170)\", \"(z, s) - (79, 25)\", \"(z, s) - (79, 26)\", \"(z, s) - (79, 27)\", \"(z, s) - (79, 28)\", \"(z, s) - (79, 29)\", \"(z, s) - (79, 562)\", \"(z, s) - (79, 599)\", \"(z, s) - (200, 48)\"], \"y\": [54.32900432900433, 61.5546218487395, 62.98701298701299, 62.10762331838565, 65.05494505494505, 59.1703056768559, 61.30434782608696, 71.70626349892008, 68.12227074235808, 57.7922077922078], \"type\": \"bar\", \"uid\": \"f5bf27ec-e1b0-11e8-9928-5cc9d399d62a\"}, {\"name\": \"N\\u00e3o Considerados\", \"x\": [\"(z, s) - (66, 9)\", \"(z, s) - (66, 170)\", \"(z, s) - (79, 25)\", \"(z, s) - (79, 26)\", \"(z, s) - (79, 27)\", \"(z, s) - (79, 28)\", \"(z, s) - (79, 29)\", \"(z, s) - (79, 562)\", \"(z, s) - (79, 599)\", \"(z, s) - (200, 48)\"], \"y\": [45.67099567099567, 38.445378151260506, 37.01298701298701, 37.89237668161435, 34.94505494505494, 40.8296943231441, 38.69565217391304, 28.293736501079913, 31.877729257641924, 42.2077922077922], \"type\": \"bar\", \"uid\": \"f5bf27ed-e1b0-11e8-9928-5cc9d399d62a\"}], {\"barmode\": \"stack\", \"title\": \"Propor\\u00e7\\u00e3o de eleitores em votos v\\u00e1lidos e n\\u00e3o considerados (por se\\u00e7\\u00e3o)\", \"xaxis\": {\"title\": \"Zonas\"}, \"yaxis\": {\"title\": \"% de registros\"}}, {\"showLink\": true, \"linkText\": \"Export to plot.ly\"})});</script>"
      ],
      "text/vnd.plotly.v1+html": [
       "<div id=\"49e70ec8-4bd3-44a5-ac5c-bf47388f1b3f\" style=\"height: 525px; width: 100%;\" class=\"plotly-graph-div\"></div><script type=\"text/javascript\">require([\"plotly\"], function(Plotly) { window.PLOTLYENV=window.PLOTLYENV || {};window.PLOTLYENV.BASE_URL=\"https://plot.ly\";Plotly.newPlot(\"49e70ec8-4bd3-44a5-ac5c-bf47388f1b3f\", [{\"name\": \"V\\u00e1lidos\", \"x\": [\"(z, s) - (66, 9)\", \"(z, s) - (66, 170)\", \"(z, s) - (79, 25)\", \"(z, s) - (79, 26)\", \"(z, s) - (79, 27)\", \"(z, s) - (79, 28)\", \"(z, s) - (79, 29)\", \"(z, s) - (79, 562)\", \"(z, s) - (79, 599)\", \"(z, s) - (200, 48)\"], \"y\": [54.32900432900433, 61.5546218487395, 62.98701298701299, 62.10762331838565, 65.05494505494505, 59.1703056768559, 61.30434782608696, 71.70626349892008, 68.12227074235808, 57.7922077922078], \"type\": \"bar\", \"uid\": \"f5bf27ec-e1b0-11e8-9928-5cc9d399d62a\"}, {\"name\": \"N\\u00e3o Considerados\", \"x\": [\"(z, s) - (66, 9)\", \"(z, s) - (66, 170)\", \"(z, s) - (79, 25)\", \"(z, s) - (79, 26)\", \"(z, s) - (79, 27)\", \"(z, s) - (79, 28)\", \"(z, s) - (79, 29)\", \"(z, s) - (79, 562)\", \"(z, s) - (79, 599)\", \"(z, s) - (200, 48)\"], \"y\": [45.67099567099567, 38.445378151260506, 37.01298701298701, 37.89237668161435, 34.94505494505494, 40.8296943231441, 38.69565217391304, 28.293736501079913, 31.877729257641924, 42.2077922077922], \"type\": \"bar\", \"uid\": \"f5bf27ed-e1b0-11e8-9928-5cc9d399d62a\"}], {\"barmode\": \"stack\", \"title\": \"Propor\\u00e7\\u00e3o de eleitores em votos v\\u00e1lidos e n\\u00e3o considerados (por se\\u00e7\\u00e3o)\", \"xaxis\": {\"title\": \"Zonas\"}, \"yaxis\": {\"title\": \"% de registros\"}}, {\"showLink\": true, \"linkText\": \"Export to plot.ly\"})});</script>"
      ]
     },
     "metadata": {},
     "output_type": "display_data"
    }
   ],
   "source": [
    "# ordenando por quantidade de aptos\n",
    "sorted = df_detalhe.sort_values(by='aptos', ascending=False)\n",
    "items_grouped = getConsolidateNumbersByZonaSecao(sorted.iloc[:10])\n",
    "zonas_secao = list(map(lambda x : '(z, s) - {}'.format(x), items_grouped.index.values))\n",
    "props = ['votos_nominais', 'nao_considerados']\n",
    "labels = { 'votos_nominais': 'Válidos', 'nao_considerados': 'Não Considerados' }\n",
    "title = 'Proporção de eleitores em votos válidos e não considerados (por seção)'\n",
    "traces = generateDataToStackedBar(go=go, x=zonas_secao, props=props, labels=labels, df=items_grouped)\n",
    "fig = generatedStackedBar(go=go, data=traces, title=title, x='Zonas', y='% de registros')\n",
    "py.iplot(fig)"
   ]
  },
  {
   "cell_type": "markdown",
   "metadata": {},
   "source": [
    "#### Visualizando a divisão entre os não considerados"
   ]
  },
  {
   "cell_type": "code",
   "execution_count": 28,
   "metadata": {},
   "outputs": [
    {
     "data": {
      "application/vnd.plotly.v1+json": {
       "data": [
        {
         "name": "Nominais",
         "type": "bar",
         "uid": "f23c304c-e1b0-11e8-9928-5cc9d399d62a",
         "x": [
          "(z, s) - (66, 9)",
          "(z, s) - (66, 170)",
          "(z, s) - (79, 25)",
          "(z, s) - (79, 26)",
          "(z, s) - (79, 27)",
          "(z, s) - (79, 28)",
          "(z, s) - (79, 29)",
          "(z, s) - (79, 562)",
          "(z, s) - (79, 599)",
          "(z, s) - (200, 48)"
         ],
         "y": [
          61.326262788579996,
          63.59515715393332,
          64.35028172249321,
          65.52715476257062,
          62.75046396778963,
          63.20511559272012,
          62.72070488603809,
          69.05735574423844,
          63.1549623926862,
          63.208795219196205
         ]
        },
        {
         "name": "Abstencoes",
         "type": "bar",
         "uid": "f23c304d-e1b0-11e8-9928-5cc9d399d62a",
         "x": [
          "(z, s) - (66, 9)",
          "(z, s) - (66, 170)",
          "(z, s) - (79, 25)",
          "(z, s) - (79, 26)",
          "(z, s) - (79, 27)",
          "(z, s) - (79, 28)",
          "(z, s) - (79, 29)",
          "(z, s) - (79, 562)",
          "(z, s) - (79, 599)",
          "(z, s) - (200, 48)"
         ],
         "y": [
          27.312657346403128,
          25.41599570585078,
          23.960599386561093,
          22.920745008110075,
          26.661633795728353,
          22.653221839645845,
          23.28885946791148,
          20.965170680991164,
          23.395041406032366,
          25.201861228958535
         ]
        },
        {
         "name": "Brancos",
         "type": "bar",
         "uid": "f23c304e-e1b0-11e8-9928-5cc9d399d62a",
         "x": [
          "(z, s) - (66, 9)",
          "(z, s) - (66, 170)",
          "(z, s) - (79, 25)",
          "(z, s) - (79, 26)",
          "(z, s) - (79, 27)",
          "(z, s) - (79, 28)",
          "(z, s) - (79, 29)",
          "(z, s) - (79, 562)",
          "(z, s) - (79, 599)",
          "(z, s) - (200, 48)"
         ],
         "y": [
          2.4130912207402644,
          2.78821494602493,
          2.7185882798038077,
          3.0113541025784443,
          2.2443458840552357,
          3.3999016232169206,
          3.7572617186162507,
          2.207589672500433,
          3.087091954314078,
          2.575156242872132
         ]
        },
        {
         "name": "Nulos",
         "type": "bar",
         "uid": "f23c304f-e1b0-11e8-9928-5cc9d399d62a",
         "x": [
          "(z, s) - (66, 9)",
          "(z, s) - (66, 170)",
          "(z, s) - (79, 25)",
          "(z, s) - (79, 26)",
          "(z, s) - (79, 27)",
          "(z, s) - (79, 28)",
          "(z, s) - (79, 29)",
          "(z, s) - (79, 562)",
          "(z, s) - (79, 599)",
          "(z, s) - (200, 48)"
         ],
         "y": [
          8.947988644276608,
          8.200632194190971,
          8.97053061114189,
          8.540746126740869,
          8.343556352426788,
          10.741760944417116,
          10.233173927434173,
          7.769883902269971,
          10.362904246967357,
          9.01418730897313
         ]
        }
       ],
       "layout": {
        "barmode": "stack",
        "title": "Proporção de eleitores em votos válidos e não considerados (por seção)",
        "xaxis": {
         "title": "Zonas"
        },
        "yaxis": {
         "title": "% de registros"
        }
       }
      },
      "text/html": [
       "<div id=\"165b1601-c6f3-4468-9cc0-1da9d99e9caf\" style=\"height: 525px; width: 100%;\" class=\"plotly-graph-div\"></div><script type=\"text/javascript\">require([\"plotly\"], function(Plotly) { window.PLOTLYENV=window.PLOTLYENV || {};window.PLOTLYENV.BASE_URL=\"https://plot.ly\";Plotly.newPlot(\"165b1601-c6f3-4468-9cc0-1da9d99e9caf\", [{\"name\": \"Nominais\", \"x\": [\"(z, s) - (66, 9)\", \"(z, s) - (66, 170)\", \"(z, s) - (79, 25)\", \"(z, s) - (79, 26)\", \"(z, s) - (79, 27)\", \"(z, s) - (79, 28)\", \"(z, s) - (79, 29)\", \"(z, s) - (79, 562)\", \"(z, s) - (79, 599)\", \"(z, s) - (200, 48)\"], \"y\": [61.326262788579996, 63.59515715393332, 64.35028172249321, 65.52715476257062, 62.75046396778963, 63.20511559272012, 62.72070488603809, 69.05735574423844, 63.1549623926862, 63.208795219196205], \"type\": \"bar\", \"uid\": \"f23c304c-e1b0-11e8-9928-5cc9d399d62a\"}, {\"name\": \"Abstencoes\", \"x\": [\"(z, s) - (66, 9)\", \"(z, s) - (66, 170)\", \"(z, s) - (79, 25)\", \"(z, s) - (79, 26)\", \"(z, s) - (79, 27)\", \"(z, s) - (79, 28)\", \"(z, s) - (79, 29)\", \"(z, s) - (79, 562)\", \"(z, s) - (79, 599)\", \"(z, s) - (200, 48)\"], \"y\": [27.312657346403128, 25.41599570585078, 23.960599386561093, 22.920745008110075, 26.661633795728353, 22.653221839645845, 23.28885946791148, 20.965170680991164, 23.395041406032366, 25.201861228958535], \"type\": \"bar\", \"uid\": \"f23c304d-e1b0-11e8-9928-5cc9d399d62a\"}, {\"name\": \"Brancos\", \"x\": [\"(z, s) - (66, 9)\", \"(z, s) - (66, 170)\", \"(z, s) - (79, 25)\", \"(z, s) - (79, 26)\", \"(z, s) - (79, 27)\", \"(z, s) - (79, 28)\", \"(z, s) - (79, 29)\", \"(z, s) - (79, 562)\", \"(z, s) - (79, 599)\", \"(z, s) - (200, 48)\"], \"y\": [2.4130912207402644, 2.78821494602493, 2.7185882798038077, 3.0113541025784443, 2.2443458840552357, 3.3999016232169206, 3.7572617186162507, 2.207589672500433, 3.087091954314078, 2.575156242872132], \"type\": \"bar\", \"uid\": \"f23c304e-e1b0-11e8-9928-5cc9d399d62a\"}, {\"name\": \"Nulos\", \"x\": [\"(z, s) - (66, 9)\", \"(z, s) - (66, 170)\", \"(z, s) - (79, 25)\", \"(z, s) - (79, 26)\", \"(z, s) - (79, 27)\", \"(z, s) - (79, 28)\", \"(z, s) - (79, 29)\", \"(z, s) - (79, 562)\", \"(z, s) - (79, 599)\", \"(z, s) - (200, 48)\"], \"y\": [8.947988644276608, 8.200632194190971, 8.97053061114189, 8.540746126740869, 8.343556352426788, 10.741760944417116, 10.233173927434173, 7.769883902269971, 10.362904246967357, 9.01418730897313], \"type\": \"bar\", \"uid\": \"f23c304f-e1b0-11e8-9928-5cc9d399d62a\"}], {\"barmode\": \"stack\", \"title\": \"Propor\\u00e7\\u00e3o de eleitores em votos v\\u00e1lidos e n\\u00e3o considerados (por se\\u00e7\\u00e3o)\", \"xaxis\": {\"title\": \"Zonas\"}, \"yaxis\": {\"title\": \"% de registros\"}}, {\"showLink\": true, \"linkText\": \"Export to plot.ly\"})});</script>"
      ],
      "text/vnd.plotly.v1+html": [
       "<div id=\"165b1601-c6f3-4468-9cc0-1da9d99e9caf\" style=\"height: 525px; width: 100%;\" class=\"plotly-graph-div\"></div><script type=\"text/javascript\">require([\"plotly\"], function(Plotly) { window.PLOTLYENV=window.PLOTLYENV || {};window.PLOTLYENV.BASE_URL=\"https://plot.ly\";Plotly.newPlot(\"165b1601-c6f3-4468-9cc0-1da9d99e9caf\", [{\"name\": \"Nominais\", \"x\": [\"(z, s) - (66, 9)\", \"(z, s) - (66, 170)\", \"(z, s) - (79, 25)\", \"(z, s) - (79, 26)\", \"(z, s) - (79, 27)\", \"(z, s) - (79, 28)\", \"(z, s) - (79, 29)\", \"(z, s) - (79, 562)\", \"(z, s) - (79, 599)\", \"(z, s) - (200, 48)\"], \"y\": [61.326262788579996, 63.59515715393332, 64.35028172249321, 65.52715476257062, 62.75046396778963, 63.20511559272012, 62.72070488603809, 69.05735574423844, 63.1549623926862, 63.208795219196205], \"type\": \"bar\", \"uid\": \"f23c304c-e1b0-11e8-9928-5cc9d399d62a\"}, {\"name\": \"Abstencoes\", \"x\": [\"(z, s) - (66, 9)\", \"(z, s) - (66, 170)\", \"(z, s) - (79, 25)\", \"(z, s) - (79, 26)\", \"(z, s) - (79, 27)\", \"(z, s) - (79, 28)\", \"(z, s) - (79, 29)\", \"(z, s) - (79, 562)\", \"(z, s) - (79, 599)\", \"(z, s) - (200, 48)\"], \"y\": [27.312657346403128, 25.41599570585078, 23.960599386561093, 22.920745008110075, 26.661633795728353, 22.653221839645845, 23.28885946791148, 20.965170680991164, 23.395041406032366, 25.201861228958535], \"type\": \"bar\", \"uid\": \"f23c304d-e1b0-11e8-9928-5cc9d399d62a\"}, {\"name\": \"Brancos\", \"x\": [\"(z, s) - (66, 9)\", \"(z, s) - (66, 170)\", \"(z, s) - (79, 25)\", \"(z, s) - (79, 26)\", \"(z, s) - (79, 27)\", \"(z, s) - (79, 28)\", \"(z, s) - (79, 29)\", \"(z, s) - (79, 562)\", \"(z, s) - (79, 599)\", \"(z, s) - (200, 48)\"], \"y\": [2.4130912207402644, 2.78821494602493, 2.7185882798038077, 3.0113541025784443, 2.2443458840552357, 3.3999016232169206, 3.7572617186162507, 2.207589672500433, 3.087091954314078, 2.575156242872132], \"type\": \"bar\", \"uid\": \"f23c304e-e1b0-11e8-9928-5cc9d399d62a\"}, {\"name\": \"Nulos\", \"x\": [\"(z, s) - (66, 9)\", \"(z, s) - (66, 170)\", \"(z, s) - (79, 25)\", \"(z, s) - (79, 26)\", \"(z, s) - (79, 27)\", \"(z, s) - (79, 28)\", \"(z, s) - (79, 29)\", \"(z, s) - (79, 562)\", \"(z, s) - (79, 599)\", \"(z, s) - (200, 48)\"], \"y\": [8.947988644276608, 8.200632194190971, 8.97053061114189, 8.540746126740869, 8.343556352426788, 10.741760944417116, 10.233173927434173, 7.769883902269971, 10.362904246967357, 9.01418730897313], \"type\": \"bar\", \"uid\": \"f23c304f-e1b0-11e8-9928-5cc9d399d62a\"}], {\"barmode\": \"stack\", \"title\": \"Propor\\u00e7\\u00e3o de eleitores em votos v\\u00e1lidos e n\\u00e3o considerados (por se\\u00e7\\u00e3o)\", \"xaxis\": {\"title\": \"Zonas\"}, \"yaxis\": {\"title\": \"% de registros\"}}, {\"showLink\": true, \"linkText\": \"Export to plot.ly\"})});</script>"
      ]
     },
     "metadata": {},
     "output_type": "display_data"
    }
   ],
   "source": [
    "title = 'Proporção de eleitores em votos válidos e não considerados (por seção)'\n",
    "props = ['votos_nominais', 'abstencoes', 'votos_brancos', 'votos_nulos']\n",
    "labels = { 'votos_nominais': 'Nominais', 'abstencoes' : 'Abstencoes', 'votos_brancos': 'Brancos', 'votos_nulos': 'Nulos' }\n",
    "traces = generateDataToStackedBar(go=go, x=zonas_secao, props=props, labels=labels, df=agrupado_por_zona)\n",
    "fig = generatedStackedBar(go=go, data=traces, title=title, x='Zonas', y='% de registros')\n",
    "py.iplot(fig)"
   ]
  },
  {
   "cell_type": "markdown",
   "metadata": {},
   "source": [
    "## Referências\n",
    "\n",
    "Resultado das eleições em [dados.gov](http://dados.gov.br/dataset/resultado-das-eleicoes)"
   ]
  }
 ],
 "metadata": {
  "kernelspec": {
   "display_name": "Python 3",
   "language": "python",
   "name": "python3"
  },
  "language_info": {
   "codemirror_mode": {
    "name": "ipython",
    "version": 3
   },
   "file_extension": ".py",
   "mimetype": "text/x-python",
   "name": "python",
   "nbconvert_exporter": "python",
   "pygments_lexer": "ipython3",
   "version": "3.6.5"
  }
 },
 "nbformat": 4,
 "nbformat_minor": 2
}
