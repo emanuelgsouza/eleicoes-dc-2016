{
 "cells": [
  {
   "cell_type": "markdown",
   "metadata": {},
   "source": [
    "# Eleições para segundo turno em Duque de Caxias - RJ"
   ]
  },
  {
   "cell_type": "markdown",
   "metadata": {},
   "source": [
    "Antes de qualquer código e gráfico, vamos a alguns conceitos que serão colocados nas análises a seguir:\n",
    "\n",
    "As eleições para os cargos executivos (prefeito, governador e presidente) são eleições majoritárias, isto é, o candidato eleito será o que tiver mais votos. A questão levantada e analisada a seguir, é que o cálculo da eleição, é feita em cima dos votos válidos.\n",
    "\n",
    "Este trabalho, porém, traz para análise, os votos ou eleitores que não são considerados. Então, será mostrado no cálculo, os votos brancos e nulos, como também as abstenções."
   ]
  },
  {
   "cell_type": "code",
   "execution_count": 1,
   "metadata": {},
   "outputs": [
    {
     "data": {
      "text/html": [
       "<script>requirejs.config({paths: { 'plotly': ['https://cdn.plot.ly/plotly-latest.min']},});if(!window.Plotly) {{require(['plotly'],function(plotly) {window.Plotly=plotly;});}}</script>"
      ],
      "text/vnd.plotly.v1+html": [
       "<script>requirejs.config({paths: { 'plotly': ['https://cdn.plot.ly/plotly-latest.min']},});if(!window.Plotly) {{require(['plotly'],function(plotly) {window.Plotly=plotly;});}}</script>"
      ]
     },
     "metadata": {},
     "output_type": "display_data"
    }
   ],
   "source": [
    "import pandas as pd\n",
    "import plotly.offline as py\n",
    "import plotly.graph_objs as go\n",
    "py.init_notebook_mode(connected=True)\n",
    "from eleicoes_analysis import *\n",
    "\n",
    "df = pd.read_csv('dataset/detalhe_votacao_secao_DC_2016_RJ.csv')\n",
    "\n",
    "numeros_consolidados = getConsolidateNumbers(df)\n",
    "total_votos_validos = numeros_consolidados.get('validos')\n",
    "total_votos_nao_considerados = numeros_consolidados.get('nao_considerados')\n",
    "total_abstencoes = numeros_consolidados.get('abstencoes')\n",
    "total_brancos = numeros_consolidados.get('brancos')\n",
    "total_nulos = numeros_consolidados.get('nulos')"
   ]
  },
  {
   "cell_type": "markdown",
   "metadata": {},
   "source": [
    "## Visualizando os dados"
   ]
  },
  {
   "cell_type": "markdown",
   "metadata": {},
   "source": [
    "### Visualizando os dados em geral"
   ]
  },
  {
   "cell_type": "markdown",
   "metadata": {},
   "source": [
    "#### Proporção de eleitores considerados (votos válidos) em relação aos não considerados"
   ]
  },
  {
   "cell_type": "code",
   "execution_count": 2,
   "metadata": {},
   "outputs": [
    {
     "data": {
      "application/vnd.plotly.v1+json": {
       "data": [
        {
         "labels": [
          "Computados",
          "Não Computados"
         ],
         "textinfo": "percent+value",
         "type": "pie",
         "uid": "f07ec6ce-e0a3-11e8-a9e0-5cc9d399d62a",
         "values": [
          402030,
          226134
         ]
        }
       ],
       "layout": {
        "title": "O eleitorado divido em: eleitores (votos) computados e não computados"
       }
      },
      "text/html": [
       "<div id=\"dcdbe9d2-49ae-4914-9f4d-eaf2f656b54f\" style=\"height: 525px; width: 100%;\" class=\"plotly-graph-div\"></div><script type=\"text/javascript\">require([\"plotly\"], function(Plotly) { window.PLOTLYENV=window.PLOTLYENV || {};window.PLOTLYENV.BASE_URL=\"https://plot.ly\";Plotly.newPlot(\"dcdbe9d2-49ae-4914-9f4d-eaf2f656b54f\", [{\"labels\": [\"Computados\", \"N\\u00e3o Computados\"], \"textinfo\": \"percent+value\", \"values\": [402030, 226134], \"type\": \"pie\", \"uid\": \"f07ec6ce-e0a3-11e8-a9e0-5cc9d399d62a\"}], {\"title\": \"O eleitorado divido em: eleitores (votos) computados e n\\u00e3o computados\"}, {\"showLink\": true, \"linkText\": \"Export to plot.ly\"})});</script>"
      ],
      "text/vnd.plotly.v1+html": [
       "<div id=\"dcdbe9d2-49ae-4914-9f4d-eaf2f656b54f\" style=\"height: 525px; width: 100%;\" class=\"plotly-graph-div\"></div><script type=\"text/javascript\">require([\"plotly\"], function(Plotly) { window.PLOTLYENV=window.PLOTLYENV || {};window.PLOTLYENV.BASE_URL=\"https://plot.ly\";Plotly.newPlot(\"dcdbe9d2-49ae-4914-9f4d-eaf2f656b54f\", [{\"labels\": [\"Computados\", \"N\\u00e3o Computados\"], \"textinfo\": \"percent+value\", \"values\": [402030, 226134], \"type\": \"pie\", \"uid\": \"f07ec6ce-e0a3-11e8-a9e0-5cc9d399d62a\"}], {\"title\": \"O eleitorado divido em: eleitores (votos) computados e n\\u00e3o computados\"}, {\"showLink\": true, \"linkText\": \"Export to plot.ly\"})});</script>"
      ]
     },
     "metadata": {},
     "output_type": "display_data"
    }
   ],
   "source": [
    "values = [total_votos_validos, total_votos_nao_considerados]\n",
    "labels = [ 'Computados', 'Não Computados' ]\n",
    "\n",
    "title = 'O eleitorado divido em: eleitores (votos) computados e não computados'\n",
    "fig = generatePieChart(go=go, labels=labels, values=values, title=title)\n",
    "py.iplot(fig)"
   ]
  },
  {
   "cell_type": "markdown",
   "metadata": {},
   "source": [
    "#### Visualização da distribuição dos votos dos candidatos em segundo turno"
   ]
  },
  {
   "cell_type": "markdown",
   "metadata": {},
   "source": [
    "#### Visualizando a divisão entre os não considerados"
   ]
  },
  {
   "cell_type": "code",
   "execution_count": 3,
   "metadata": {},
   "outputs": [
    {
     "data": {
      "application/vnd.plotly.v1+json": {
       "data": [
        {
         "labels": [
          "Válidos",
          "Abstenções",
          "Brancos",
          "Nulos"
         ],
         "textinfo": "percent+value",
         "type": "pie",
         "uid": "f21315ee-e0a3-11e8-a9e0-5cc9d399d62a",
         "values": [
          402030,
          149714,
          18337,
          58083
         ]
        }
       ],
       "layout": {
        "title": "Proporcao de eleitores em votos válidos e não computados"
       }
      },
      "text/html": [
       "<div id=\"44efaf14-5e54-48df-8e20-1a8688ef00f3\" style=\"height: 525px; width: 100%;\" class=\"plotly-graph-div\"></div><script type=\"text/javascript\">require([\"plotly\"], function(Plotly) { window.PLOTLYENV=window.PLOTLYENV || {};window.PLOTLYENV.BASE_URL=\"https://plot.ly\";Plotly.newPlot(\"44efaf14-5e54-48df-8e20-1a8688ef00f3\", [{\"labels\": [\"V\\u00e1lidos\", \"Absten\\u00e7\\u00f5es\", \"Brancos\", \"Nulos\"], \"textinfo\": \"percent+value\", \"values\": [402030, 149714, 18337, 58083], \"type\": \"pie\", \"uid\": \"f21315ee-e0a3-11e8-a9e0-5cc9d399d62a\"}], {\"title\": \"Proporcao de eleitores em votos v\\u00e1lidos e n\\u00e3o computados\"}, {\"showLink\": true, \"linkText\": \"Export to plot.ly\"})});</script>"
      ],
      "text/vnd.plotly.v1+html": [
       "<div id=\"44efaf14-5e54-48df-8e20-1a8688ef00f3\" style=\"height: 525px; width: 100%;\" class=\"plotly-graph-div\"></div><script type=\"text/javascript\">require([\"plotly\"], function(Plotly) { window.PLOTLYENV=window.PLOTLYENV || {};window.PLOTLYENV.BASE_URL=\"https://plot.ly\";Plotly.newPlot(\"44efaf14-5e54-48df-8e20-1a8688ef00f3\", [{\"labels\": [\"V\\u00e1lidos\", \"Absten\\u00e7\\u00f5es\", \"Brancos\", \"Nulos\"], \"textinfo\": \"percent+value\", \"values\": [402030, 149714, 18337, 58083], \"type\": \"pie\", \"uid\": \"f21315ee-e0a3-11e8-a9e0-5cc9d399d62a\"}], {\"title\": \"Proporcao de eleitores em votos v\\u00e1lidos e n\\u00e3o computados\"}, {\"showLink\": true, \"linkText\": \"Export to plot.ly\"})});</script>"
      ]
     },
     "metadata": {},
     "output_type": "display_data"
    }
   ],
   "source": [
    "values = [total_votos_validos, total_abstencoes, total_brancos, total_nulos]\n",
    "labels = [ 'Válidos', 'Abstenções', 'Brancos', 'Nulos' ]\n",
    "\n",
    "title = 'Proporcao de eleitores em votos válidos e não computados'\n",
    "fig = generatePieChart(go=go, labels=labels, values=values, title=title)\n",
    "py.iplot(fig)"
   ]
  },
  {
   "cell_type": "markdown",
   "metadata": {},
   "source": [
    "#### Visualização da distribuição dos votos dos candidatos em segundo turno"
   ]
  },
  {
   "cell_type": "markdown",
   "metadata": {},
   "source": [
    "### Visualizando os dados por zona"
   ]
  },
  {
   "cell_type": "markdown",
   "metadata": {},
   "source": [
    "#### Proporção de eleitores considerados (votos válidos) em relação aos não considerados"
   ]
  },
  {
   "cell_type": "code",
   "execution_count": 4,
   "metadata": {},
   "outputs": [
    {
     "data": {
      "application/vnd.plotly.v1+json": {
       "data": [
        {
         "name": "Válidos",
         "type": "bar",
         "uid": "f37990d4-e0a3-11e8-a9e0-5cc9d399d62a",
         "x": [
          "Z-66",
          "Z-77",
          "Z-78",
          "Z-79",
          "Z-103",
          "Z-126",
          "Z-127",
          "Z-128",
          "Z-194",
          "Z-200"
         ],
         "y": [
          61.326262788579996,
          63.59515715393332,
          64.35028172249321,
          65.52715476257062,
          62.75046396778963,
          63.20511559272012,
          62.72070488603809,
          69.05735574423844,
          63.1549623926862,
          63.208795219196205
         ]
        },
        {
         "name": "Não Considerados",
         "type": "bar",
         "uid": "f37990d5-e0a3-11e8-a9e0-5cc9d399d62a",
         "x": [
          "Z-66",
          "Z-77",
          "Z-78",
          "Z-79",
          "Z-103",
          "Z-126",
          "Z-127",
          "Z-128",
          "Z-194",
          "Z-200"
         ],
         "y": [
          38.673737211420004,
          36.40484284606668,
          35.64971827750679,
          34.47284523742938,
          37.24953603221037,
          36.79488440727988,
          37.2792951139619,
          30.942644255761564,
          36.8450376073138,
          36.791204780803795
         ]
        }
       ],
       "layout": {
        "barmode": "stack",
        "title": "Proporção de eleitores em votos válidos e não considerados",
        "xaxis": {
         "title": "Zonas"
        },
        "yaxis": {
         "title": "% de registros"
        }
       }
      },
      "text/html": [
       "<div id=\"f27894a0-f68c-4af6-980d-4fcc35dbe490\" style=\"height: 525px; width: 100%;\" class=\"plotly-graph-div\"></div><script type=\"text/javascript\">require([\"plotly\"], function(Plotly) { window.PLOTLYENV=window.PLOTLYENV || {};window.PLOTLYENV.BASE_URL=\"https://plot.ly\";Plotly.newPlot(\"f27894a0-f68c-4af6-980d-4fcc35dbe490\", [{\"name\": \"V\\u00e1lidos\", \"x\": [\"Z-66\", \"Z-77\", \"Z-78\", \"Z-79\", \"Z-103\", \"Z-126\", \"Z-127\", \"Z-128\", \"Z-194\", \"Z-200\"], \"y\": [61.326262788579996, 63.59515715393332, 64.35028172249321, 65.52715476257062, 62.75046396778963, 63.20511559272012, 62.72070488603809, 69.05735574423844, 63.1549623926862, 63.208795219196205], \"type\": \"bar\", \"uid\": \"f37990d4-e0a3-11e8-a9e0-5cc9d399d62a\"}, {\"name\": \"N\\u00e3o Considerados\", \"x\": [\"Z-66\", \"Z-77\", \"Z-78\", \"Z-79\", \"Z-103\", \"Z-126\", \"Z-127\", \"Z-128\", \"Z-194\", \"Z-200\"], \"y\": [38.673737211420004, 36.40484284606668, 35.64971827750679, 34.47284523742938, 37.24953603221037, 36.79488440727988, 37.2792951139619, 30.942644255761564, 36.8450376073138, 36.791204780803795], \"type\": \"bar\", \"uid\": \"f37990d5-e0a3-11e8-a9e0-5cc9d399d62a\"}], {\"barmode\": \"stack\", \"title\": \"Propor\\u00e7\\u00e3o de eleitores em votos v\\u00e1lidos e n\\u00e3o considerados\", \"xaxis\": {\"title\": \"Zonas\"}, \"yaxis\": {\"title\": \"% de registros\"}}, {\"showLink\": true, \"linkText\": \"Export to plot.ly\"})});</script>"
      ],
      "text/vnd.plotly.v1+html": [
       "<div id=\"f27894a0-f68c-4af6-980d-4fcc35dbe490\" style=\"height: 525px; width: 100%;\" class=\"plotly-graph-div\"></div><script type=\"text/javascript\">require([\"plotly\"], function(Plotly) { window.PLOTLYENV=window.PLOTLYENV || {};window.PLOTLYENV.BASE_URL=\"https://plot.ly\";Plotly.newPlot(\"f27894a0-f68c-4af6-980d-4fcc35dbe490\", [{\"name\": \"V\\u00e1lidos\", \"x\": [\"Z-66\", \"Z-77\", \"Z-78\", \"Z-79\", \"Z-103\", \"Z-126\", \"Z-127\", \"Z-128\", \"Z-194\", \"Z-200\"], \"y\": [61.326262788579996, 63.59515715393332, 64.35028172249321, 65.52715476257062, 62.75046396778963, 63.20511559272012, 62.72070488603809, 69.05735574423844, 63.1549623926862, 63.208795219196205], \"type\": \"bar\", \"uid\": \"f37990d4-e0a3-11e8-a9e0-5cc9d399d62a\"}, {\"name\": \"N\\u00e3o Considerados\", \"x\": [\"Z-66\", \"Z-77\", \"Z-78\", \"Z-79\", \"Z-103\", \"Z-126\", \"Z-127\", \"Z-128\", \"Z-194\", \"Z-200\"], \"y\": [38.673737211420004, 36.40484284606668, 35.64971827750679, 34.47284523742938, 37.24953603221037, 36.79488440727988, 37.2792951139619, 30.942644255761564, 36.8450376073138, 36.791204780803795], \"type\": \"bar\", \"uid\": \"f37990d5-e0a3-11e8-a9e0-5cc9d399d62a\"}], {\"barmode\": \"stack\", \"title\": \"Propor\\u00e7\\u00e3o de eleitores em votos v\\u00e1lidos e n\\u00e3o considerados\", \"xaxis\": {\"title\": \"Zonas\"}, \"yaxis\": {\"title\": \"% de registros\"}}, {\"showLink\": true, \"linkText\": \"Export to plot.ly\"})});</script>"
      ]
     },
     "metadata": {},
     "output_type": "display_data"
    }
   ],
   "source": [
    "agrupado_por_zona = getConsolidateNumbersByZona(df)\n",
    "zonas = agrupado_por_zona.index.values\n",
    "\n",
    "_zonas = list(map(lambda z : 'Z-{}'.format(z), zonas))\n",
    "\n",
    "props = ['votos_nominais', 'nao_considerados']\n",
    "labels = { 'votos_nominais': 'Válidos', 'nao_considerados': 'Não Considerados' }\n",
    "title = 'Proporção de eleitores em votos válidos e não considerados'\n",
    "traces = generateDataToStackedBar(go=go, x=_zonas, props=props, labels=labels, df=agrupado_por_zona)\n",
    "fig = generatedStackedBar(go=go, data=traces, title=title, x='Zonas', y='% de registros')\n",
    "py.iplot(fig)"
   ]
  },
  {
   "cell_type": "markdown",
   "metadata": {},
   "source": [
    "#### Visualizando a divisão entre os não considerados"
   ]
  },
  {
   "cell_type": "code",
   "execution_count": 5,
   "metadata": {},
   "outputs": [
    {
     "data": {
      "application/vnd.plotly.v1+json": {
       "data": [
        {
         "name": "Nominais",
         "type": "bar",
         "uid": "f4ba9272-e0a3-11e8-a9e0-5cc9d399d62a",
         "x": [
          "Z-66",
          "Z-77",
          "Z-78",
          "Z-79",
          "Z-103",
          "Z-126",
          "Z-127",
          "Z-128",
          "Z-194",
          "Z-200"
         ],
         "y": [
          61.326262788579996,
          63.59515715393332,
          64.35028172249321,
          65.52715476257062,
          62.75046396778963,
          63.20511559272012,
          62.72070488603809,
          69.05735574423844,
          63.1549623926862,
          63.208795219196205
         ]
        },
        {
         "name": "Abstencoes",
         "type": "bar",
         "uid": "f4ba9273-e0a3-11e8-a9e0-5cc9d399d62a",
         "x": [
          "Z-66",
          "Z-77",
          "Z-78",
          "Z-79",
          "Z-103",
          "Z-126",
          "Z-127",
          "Z-128",
          "Z-194",
          "Z-200"
         ],
         "y": [
          27.312657346403128,
          25.41599570585078,
          23.960599386561093,
          22.920745008110075,
          26.661633795728353,
          22.653221839645845,
          23.28885946791148,
          20.965170680991164,
          23.395041406032366,
          25.201861228958535
         ]
        },
        {
         "name": "Brancos",
         "type": "bar",
         "uid": "f4ba9274-e0a3-11e8-a9e0-5cc9d399d62a",
         "x": [
          "Z-66",
          "Z-77",
          "Z-78",
          "Z-79",
          "Z-103",
          "Z-126",
          "Z-127",
          "Z-128",
          "Z-194",
          "Z-200"
         ],
         "y": [
          2.4130912207402644,
          2.78821494602493,
          2.7185882798038077,
          3.0113541025784443,
          2.2443458840552357,
          3.3999016232169206,
          3.7572617186162507,
          2.207589672500433,
          3.087091954314078,
          2.575156242872132
         ]
        },
        {
         "name": "Nulos",
         "type": "bar",
         "uid": "f4ba9275-e0a3-11e8-a9e0-5cc9d399d62a",
         "x": [
          "Z-66",
          "Z-77",
          "Z-78",
          "Z-79",
          "Z-103",
          "Z-126",
          "Z-127",
          "Z-128",
          "Z-194",
          "Z-200"
         ],
         "y": [
          8.947988644276608,
          8.200632194190971,
          8.97053061114189,
          8.540746126740869,
          8.343556352426788,
          10.741760944417116,
          10.233173927434173,
          7.769883902269971,
          10.362904246967357,
          9.01418730897313
         ]
        }
       ],
       "layout": {
        "barmode": "stack",
        "title": "Proporção de eleitores em votos válidos e não considerados",
        "xaxis": {
         "title": "Zonas"
        },
        "yaxis": {
         "title": "% de registros"
        }
       }
      },
      "text/html": [
       "<div id=\"774aa6c1-8bfd-4590-bae1-1c5ae69d4acf\" style=\"height: 525px; width: 100%;\" class=\"plotly-graph-div\"></div><script type=\"text/javascript\">require([\"plotly\"], function(Plotly) { window.PLOTLYENV=window.PLOTLYENV || {};window.PLOTLYENV.BASE_URL=\"https://plot.ly\";Plotly.newPlot(\"774aa6c1-8bfd-4590-bae1-1c5ae69d4acf\", [{\"name\": \"Nominais\", \"x\": [\"Z-66\", \"Z-77\", \"Z-78\", \"Z-79\", \"Z-103\", \"Z-126\", \"Z-127\", \"Z-128\", \"Z-194\", \"Z-200\"], \"y\": [61.326262788579996, 63.59515715393332, 64.35028172249321, 65.52715476257062, 62.75046396778963, 63.20511559272012, 62.72070488603809, 69.05735574423844, 63.1549623926862, 63.208795219196205], \"type\": \"bar\", \"uid\": \"f4ba9272-e0a3-11e8-a9e0-5cc9d399d62a\"}, {\"name\": \"Abstencoes\", \"x\": [\"Z-66\", \"Z-77\", \"Z-78\", \"Z-79\", \"Z-103\", \"Z-126\", \"Z-127\", \"Z-128\", \"Z-194\", \"Z-200\"], \"y\": [27.312657346403128, 25.41599570585078, 23.960599386561093, 22.920745008110075, 26.661633795728353, 22.653221839645845, 23.28885946791148, 20.965170680991164, 23.395041406032366, 25.201861228958535], \"type\": \"bar\", \"uid\": \"f4ba9273-e0a3-11e8-a9e0-5cc9d399d62a\"}, {\"name\": \"Brancos\", \"x\": [\"Z-66\", \"Z-77\", \"Z-78\", \"Z-79\", \"Z-103\", \"Z-126\", \"Z-127\", \"Z-128\", \"Z-194\", \"Z-200\"], \"y\": [2.4130912207402644, 2.78821494602493, 2.7185882798038077, 3.0113541025784443, 2.2443458840552357, 3.3999016232169206, 3.7572617186162507, 2.207589672500433, 3.087091954314078, 2.575156242872132], \"type\": \"bar\", \"uid\": \"f4ba9274-e0a3-11e8-a9e0-5cc9d399d62a\"}, {\"name\": \"Nulos\", \"x\": [\"Z-66\", \"Z-77\", \"Z-78\", \"Z-79\", \"Z-103\", \"Z-126\", \"Z-127\", \"Z-128\", \"Z-194\", \"Z-200\"], \"y\": [8.947988644276608, 8.200632194190971, 8.97053061114189, 8.540746126740869, 8.343556352426788, 10.741760944417116, 10.233173927434173, 7.769883902269971, 10.362904246967357, 9.01418730897313], \"type\": \"bar\", \"uid\": \"f4ba9275-e0a3-11e8-a9e0-5cc9d399d62a\"}], {\"barmode\": \"stack\", \"title\": \"Propor\\u00e7\\u00e3o de eleitores em votos v\\u00e1lidos e n\\u00e3o considerados\", \"xaxis\": {\"title\": \"Zonas\"}, \"yaxis\": {\"title\": \"% de registros\"}}, {\"showLink\": true, \"linkText\": \"Export to plot.ly\"})});</script>"
      ],
      "text/vnd.plotly.v1+html": [
       "<div id=\"774aa6c1-8bfd-4590-bae1-1c5ae69d4acf\" style=\"height: 525px; width: 100%;\" class=\"plotly-graph-div\"></div><script type=\"text/javascript\">require([\"plotly\"], function(Plotly) { window.PLOTLYENV=window.PLOTLYENV || {};window.PLOTLYENV.BASE_URL=\"https://plot.ly\";Plotly.newPlot(\"774aa6c1-8bfd-4590-bae1-1c5ae69d4acf\", [{\"name\": \"Nominais\", \"x\": [\"Z-66\", \"Z-77\", \"Z-78\", \"Z-79\", \"Z-103\", \"Z-126\", \"Z-127\", \"Z-128\", \"Z-194\", \"Z-200\"], \"y\": [61.326262788579996, 63.59515715393332, 64.35028172249321, 65.52715476257062, 62.75046396778963, 63.20511559272012, 62.72070488603809, 69.05735574423844, 63.1549623926862, 63.208795219196205], \"type\": \"bar\", \"uid\": \"f4ba9272-e0a3-11e8-a9e0-5cc9d399d62a\"}, {\"name\": \"Abstencoes\", \"x\": [\"Z-66\", \"Z-77\", \"Z-78\", \"Z-79\", \"Z-103\", \"Z-126\", \"Z-127\", \"Z-128\", \"Z-194\", \"Z-200\"], \"y\": [27.312657346403128, 25.41599570585078, 23.960599386561093, 22.920745008110075, 26.661633795728353, 22.653221839645845, 23.28885946791148, 20.965170680991164, 23.395041406032366, 25.201861228958535], \"type\": \"bar\", \"uid\": \"f4ba9273-e0a3-11e8-a9e0-5cc9d399d62a\"}, {\"name\": \"Brancos\", \"x\": [\"Z-66\", \"Z-77\", \"Z-78\", \"Z-79\", \"Z-103\", \"Z-126\", \"Z-127\", \"Z-128\", \"Z-194\", \"Z-200\"], \"y\": [2.4130912207402644, 2.78821494602493, 2.7185882798038077, 3.0113541025784443, 2.2443458840552357, 3.3999016232169206, 3.7572617186162507, 2.207589672500433, 3.087091954314078, 2.575156242872132], \"type\": \"bar\", \"uid\": \"f4ba9274-e0a3-11e8-a9e0-5cc9d399d62a\"}, {\"name\": \"Nulos\", \"x\": [\"Z-66\", \"Z-77\", \"Z-78\", \"Z-79\", \"Z-103\", \"Z-126\", \"Z-127\", \"Z-128\", \"Z-194\", \"Z-200\"], \"y\": [8.947988644276608, 8.200632194190971, 8.97053061114189, 8.540746126740869, 8.343556352426788, 10.741760944417116, 10.233173927434173, 7.769883902269971, 10.362904246967357, 9.01418730897313], \"type\": \"bar\", \"uid\": \"f4ba9275-e0a3-11e8-a9e0-5cc9d399d62a\"}], {\"barmode\": \"stack\", \"title\": \"Propor\\u00e7\\u00e3o de eleitores em votos v\\u00e1lidos e n\\u00e3o considerados\", \"xaxis\": {\"title\": \"Zonas\"}, \"yaxis\": {\"title\": \"% de registros\"}}, {\"showLink\": true, \"linkText\": \"Export to plot.ly\"})});</script>"
      ]
     },
     "metadata": {},
     "output_type": "display_data"
    }
   ],
   "source": [
    "title = 'Proporção de eleitores em votos válidos e não considerados'\n",
    "props = ['votos_nominais', 'abstencoes', 'votos_brancos', 'votos_nulos']\n",
    "labels = { 'votos_nominais': 'Nominais', 'abstencoes' : 'Abstencoes', 'votos_brancos': 'Brancos', 'votos_nulos': 'Nulos' }\n",
    "traces = generateDataToStackedBar(go=go, x=_zonas, props=props, labels=labels, df=agrupado_por_zona)\n",
    "fig = generatedStackedBar(go=go, data=traces, title=title, x='Zonas', y='% de registros')\n",
    "py.iplot(fig)"
   ]
  },
  {
   "cell_type": "markdown",
   "metadata": {},
   "source": [
    "### Visualizando os dados por seção\n",
    "\n",
    "O objetivo aqui é trazer as dez seções com mais eleitores aptos"
   ]
  },
  {
   "cell_type": "markdown",
   "metadata": {},
   "source": [
    "#### Proporção de eleitores considerados (votos válidos) em relação aos não considerados"
   ]
  },
  {
   "cell_type": "code",
   "execution_count": 6,
   "metadata": {},
   "outputs": [
    {
     "data": {
      "application/vnd.plotly.v1+json": {
       "data": [
        {
         "name": "Válidos",
         "type": "bar",
         "uid": "f61a801e-e0a3-11e8-a9e0-5cc9d399d62a",
         "x": [
          "(z, s) - (66, 9)",
          "(z, s) - (66, 170)",
          "(z, s) - (79, 25)",
          "(z, s) - (79, 26)",
          "(z, s) - (79, 27)",
          "(z, s) - (79, 28)",
          "(z, s) - (79, 29)",
          "(z, s) - (79, 562)",
          "(z, s) - (79, 599)",
          "(z, s) - (200, 48)"
         ],
         "y": [
          54.32900432900433,
          61.5546218487395,
          62.98701298701299,
          62.10762331838565,
          65.05494505494505,
          59.1703056768559,
          61.30434782608696,
          71.70626349892008,
          68.12227074235808,
          57.7922077922078
         ]
        },
        {
         "name": "Não Considerados",
         "type": "bar",
         "uid": "f61a801f-e0a3-11e8-a9e0-5cc9d399d62a",
         "x": [
          "(z, s) - (66, 9)",
          "(z, s) - (66, 170)",
          "(z, s) - (79, 25)",
          "(z, s) - (79, 26)",
          "(z, s) - (79, 27)",
          "(z, s) - (79, 28)",
          "(z, s) - (79, 29)",
          "(z, s) - (79, 562)",
          "(z, s) - (79, 599)",
          "(z, s) - (200, 48)"
         ],
         "y": [
          45.67099567099567,
          38.445378151260506,
          37.01298701298701,
          37.89237668161435,
          34.94505494505494,
          40.8296943231441,
          38.69565217391304,
          28.293736501079913,
          31.877729257641924,
          42.2077922077922
         ]
        }
       ],
       "layout": {
        "barmode": "stack",
        "title": "Proporção de eleitores em votos válidos e não considerados",
        "xaxis": {
         "title": "Zonas"
        },
        "yaxis": {
         "title": "% de registros"
        }
       }
      },
      "text/html": [
       "<div id=\"9ee2cf09-e33a-4f24-a688-01073b487d42\" style=\"height: 525px; width: 100%;\" class=\"plotly-graph-div\"></div><script type=\"text/javascript\">require([\"plotly\"], function(Plotly) { window.PLOTLYENV=window.PLOTLYENV || {};window.PLOTLYENV.BASE_URL=\"https://plot.ly\";Plotly.newPlot(\"9ee2cf09-e33a-4f24-a688-01073b487d42\", [{\"name\": \"V\\u00e1lidos\", \"x\": [\"(z, s) - (66, 9)\", \"(z, s) - (66, 170)\", \"(z, s) - (79, 25)\", \"(z, s) - (79, 26)\", \"(z, s) - (79, 27)\", \"(z, s) - (79, 28)\", \"(z, s) - (79, 29)\", \"(z, s) - (79, 562)\", \"(z, s) - (79, 599)\", \"(z, s) - (200, 48)\"], \"y\": [54.32900432900433, 61.5546218487395, 62.98701298701299, 62.10762331838565, 65.05494505494505, 59.1703056768559, 61.30434782608696, 71.70626349892008, 68.12227074235808, 57.7922077922078], \"type\": \"bar\", \"uid\": \"f61a801e-e0a3-11e8-a9e0-5cc9d399d62a\"}, {\"name\": \"N\\u00e3o Considerados\", \"x\": [\"(z, s) - (66, 9)\", \"(z, s) - (66, 170)\", \"(z, s) - (79, 25)\", \"(z, s) - (79, 26)\", \"(z, s) - (79, 27)\", \"(z, s) - (79, 28)\", \"(z, s) - (79, 29)\", \"(z, s) - (79, 562)\", \"(z, s) - (79, 599)\", \"(z, s) - (200, 48)\"], \"y\": [45.67099567099567, 38.445378151260506, 37.01298701298701, 37.89237668161435, 34.94505494505494, 40.8296943231441, 38.69565217391304, 28.293736501079913, 31.877729257641924, 42.2077922077922], \"type\": \"bar\", \"uid\": \"f61a801f-e0a3-11e8-a9e0-5cc9d399d62a\"}], {\"barmode\": \"stack\", \"title\": \"Propor\\u00e7\\u00e3o de eleitores em votos v\\u00e1lidos e n\\u00e3o considerados\", \"xaxis\": {\"title\": \"Zonas\"}, \"yaxis\": {\"title\": \"% de registros\"}}, {\"showLink\": true, \"linkText\": \"Export to plot.ly\"})});</script>"
      ],
      "text/vnd.plotly.v1+html": [
       "<div id=\"9ee2cf09-e33a-4f24-a688-01073b487d42\" style=\"height: 525px; width: 100%;\" class=\"plotly-graph-div\"></div><script type=\"text/javascript\">require([\"plotly\"], function(Plotly) { window.PLOTLYENV=window.PLOTLYENV || {};window.PLOTLYENV.BASE_URL=\"https://plot.ly\";Plotly.newPlot(\"9ee2cf09-e33a-4f24-a688-01073b487d42\", [{\"name\": \"V\\u00e1lidos\", \"x\": [\"(z, s) - (66, 9)\", \"(z, s) - (66, 170)\", \"(z, s) - (79, 25)\", \"(z, s) - (79, 26)\", \"(z, s) - (79, 27)\", \"(z, s) - (79, 28)\", \"(z, s) - (79, 29)\", \"(z, s) - (79, 562)\", \"(z, s) - (79, 599)\", \"(z, s) - (200, 48)\"], \"y\": [54.32900432900433, 61.5546218487395, 62.98701298701299, 62.10762331838565, 65.05494505494505, 59.1703056768559, 61.30434782608696, 71.70626349892008, 68.12227074235808, 57.7922077922078], \"type\": \"bar\", \"uid\": \"f61a801e-e0a3-11e8-a9e0-5cc9d399d62a\"}, {\"name\": \"N\\u00e3o Considerados\", \"x\": [\"(z, s) - (66, 9)\", \"(z, s) - (66, 170)\", \"(z, s) - (79, 25)\", \"(z, s) - (79, 26)\", \"(z, s) - (79, 27)\", \"(z, s) - (79, 28)\", \"(z, s) - (79, 29)\", \"(z, s) - (79, 562)\", \"(z, s) - (79, 599)\", \"(z, s) - (200, 48)\"], \"y\": [45.67099567099567, 38.445378151260506, 37.01298701298701, 37.89237668161435, 34.94505494505494, 40.8296943231441, 38.69565217391304, 28.293736501079913, 31.877729257641924, 42.2077922077922], \"type\": \"bar\", \"uid\": \"f61a801f-e0a3-11e8-a9e0-5cc9d399d62a\"}], {\"barmode\": \"stack\", \"title\": \"Propor\\u00e7\\u00e3o de eleitores em votos v\\u00e1lidos e n\\u00e3o considerados\", \"xaxis\": {\"title\": \"Zonas\"}, \"yaxis\": {\"title\": \"% de registros\"}}, {\"showLink\": true, \"linkText\": \"Export to plot.ly\"})});</script>"
      ]
     },
     "metadata": {},
     "output_type": "display_data"
    }
   ],
   "source": [
    "# ordenando por quantidade de aptos\n",
    "sorted = df.sort_values(by='aptos', ascending=False)\n",
    "items_grouped = getConsolidateNumbersByZonaSecao(sorted.iloc[:10])\n",
    "zonas_secao = list(map(lambda x : '(z, s) - {}'.format(x), items_grouped.index.values))\n",
    "props = ['votos_nominais', 'nao_considerados']\n",
    "labels = { 'votos_nominais': 'Válidos', 'nao_considerados': 'Não Considerados' }\n",
    "title = 'Proporção de eleitores em votos válidos e não considerados'\n",
    "traces = generateDataToStackedBar(go=go, x=zonas_secao, props=props, labels=labels, df=items_grouped)\n",
    "fig = generatedStackedBar(go=go, data=traces, title=title, x='Zonas', y='% de registros')\n",
    "py.iplot(fig)"
   ]
  },
  {
   "cell_type": "markdown",
   "metadata": {},
   "source": [
    "#### Visualizando a divisão entre os não considerados"
   ]
  },
  {
   "cell_type": "code",
   "execution_count": 7,
   "metadata": {},
   "outputs": [
    {
     "data": {
      "application/vnd.plotly.v1+json": {
       "data": [
        {
         "name": "Nominais",
         "type": "bar",
         "uid": "f75e41fe-e0a3-11e8-a9e0-5cc9d399d62a",
         "x": [
          "(z, s) - (66, 9)",
          "(z, s) - (66, 170)",
          "(z, s) - (79, 25)",
          "(z, s) - (79, 26)",
          "(z, s) - (79, 27)",
          "(z, s) - (79, 28)",
          "(z, s) - (79, 29)",
          "(z, s) - (79, 562)",
          "(z, s) - (79, 599)",
          "(z, s) - (200, 48)"
         ],
         "y": [
          61.326262788579996,
          63.59515715393332,
          64.35028172249321,
          65.52715476257062,
          62.75046396778963,
          63.20511559272012,
          62.72070488603809,
          69.05735574423844,
          63.1549623926862,
          63.208795219196205
         ]
        },
        {
         "name": "Abstencoes",
         "type": "bar",
         "uid": "f75e41ff-e0a3-11e8-a9e0-5cc9d399d62a",
         "x": [
          "(z, s) - (66, 9)",
          "(z, s) - (66, 170)",
          "(z, s) - (79, 25)",
          "(z, s) - (79, 26)",
          "(z, s) - (79, 27)",
          "(z, s) - (79, 28)",
          "(z, s) - (79, 29)",
          "(z, s) - (79, 562)",
          "(z, s) - (79, 599)",
          "(z, s) - (200, 48)"
         ],
         "y": [
          27.312657346403128,
          25.41599570585078,
          23.960599386561093,
          22.920745008110075,
          26.661633795728353,
          22.653221839645845,
          23.28885946791148,
          20.965170680991164,
          23.395041406032366,
          25.201861228958535
         ]
        },
        {
         "name": "Brancos",
         "type": "bar",
         "uid": "f75e4200-e0a3-11e8-a9e0-5cc9d399d62a",
         "x": [
          "(z, s) - (66, 9)",
          "(z, s) - (66, 170)",
          "(z, s) - (79, 25)",
          "(z, s) - (79, 26)",
          "(z, s) - (79, 27)",
          "(z, s) - (79, 28)",
          "(z, s) - (79, 29)",
          "(z, s) - (79, 562)",
          "(z, s) - (79, 599)",
          "(z, s) - (200, 48)"
         ],
         "y": [
          2.4130912207402644,
          2.78821494602493,
          2.7185882798038077,
          3.0113541025784443,
          2.2443458840552357,
          3.3999016232169206,
          3.7572617186162507,
          2.207589672500433,
          3.087091954314078,
          2.575156242872132
         ]
        },
        {
         "name": "Nulos",
         "type": "bar",
         "uid": "f75e4201-e0a3-11e8-a9e0-5cc9d399d62a",
         "x": [
          "(z, s) - (66, 9)",
          "(z, s) - (66, 170)",
          "(z, s) - (79, 25)",
          "(z, s) - (79, 26)",
          "(z, s) - (79, 27)",
          "(z, s) - (79, 28)",
          "(z, s) - (79, 29)",
          "(z, s) - (79, 562)",
          "(z, s) - (79, 599)",
          "(z, s) - (200, 48)"
         ],
         "y": [
          8.947988644276608,
          8.200632194190971,
          8.97053061114189,
          8.540746126740869,
          8.343556352426788,
          10.741760944417116,
          10.233173927434173,
          7.769883902269971,
          10.362904246967357,
          9.01418730897313
         ]
        }
       ],
       "layout": {
        "barmode": "stack",
        "title": "Proporção de eleitores em votos válidos e não considerados",
        "xaxis": {
         "title": "Zonas"
        },
        "yaxis": {
         "title": "% de registros"
        }
       }
      },
      "text/html": [
       "<div id=\"c6af824d-fd81-416c-b636-24275b5def57\" style=\"height: 525px; width: 100%;\" class=\"plotly-graph-div\"></div><script type=\"text/javascript\">require([\"plotly\"], function(Plotly) { window.PLOTLYENV=window.PLOTLYENV || {};window.PLOTLYENV.BASE_URL=\"https://plot.ly\";Plotly.newPlot(\"c6af824d-fd81-416c-b636-24275b5def57\", [{\"name\": \"Nominais\", \"x\": [\"(z, s) - (66, 9)\", \"(z, s) - (66, 170)\", \"(z, s) - (79, 25)\", \"(z, s) - (79, 26)\", \"(z, s) - (79, 27)\", \"(z, s) - (79, 28)\", \"(z, s) - (79, 29)\", \"(z, s) - (79, 562)\", \"(z, s) - (79, 599)\", \"(z, s) - (200, 48)\"], \"y\": [61.326262788579996, 63.59515715393332, 64.35028172249321, 65.52715476257062, 62.75046396778963, 63.20511559272012, 62.72070488603809, 69.05735574423844, 63.1549623926862, 63.208795219196205], \"type\": \"bar\", \"uid\": \"f75e41fe-e0a3-11e8-a9e0-5cc9d399d62a\"}, {\"name\": \"Abstencoes\", \"x\": [\"(z, s) - (66, 9)\", \"(z, s) - (66, 170)\", \"(z, s) - (79, 25)\", \"(z, s) - (79, 26)\", \"(z, s) - (79, 27)\", \"(z, s) - (79, 28)\", \"(z, s) - (79, 29)\", \"(z, s) - (79, 562)\", \"(z, s) - (79, 599)\", \"(z, s) - (200, 48)\"], \"y\": [27.312657346403128, 25.41599570585078, 23.960599386561093, 22.920745008110075, 26.661633795728353, 22.653221839645845, 23.28885946791148, 20.965170680991164, 23.395041406032366, 25.201861228958535], \"type\": \"bar\", \"uid\": \"f75e41ff-e0a3-11e8-a9e0-5cc9d399d62a\"}, {\"name\": \"Brancos\", \"x\": [\"(z, s) - (66, 9)\", \"(z, s) - (66, 170)\", \"(z, s) - (79, 25)\", \"(z, s) - (79, 26)\", \"(z, s) - (79, 27)\", \"(z, s) - (79, 28)\", \"(z, s) - (79, 29)\", \"(z, s) - (79, 562)\", \"(z, s) - (79, 599)\", \"(z, s) - (200, 48)\"], \"y\": [2.4130912207402644, 2.78821494602493, 2.7185882798038077, 3.0113541025784443, 2.2443458840552357, 3.3999016232169206, 3.7572617186162507, 2.207589672500433, 3.087091954314078, 2.575156242872132], \"type\": \"bar\", \"uid\": \"f75e4200-e0a3-11e8-a9e0-5cc9d399d62a\"}, {\"name\": \"Nulos\", \"x\": [\"(z, s) - (66, 9)\", \"(z, s) - (66, 170)\", \"(z, s) - (79, 25)\", \"(z, s) - (79, 26)\", \"(z, s) - (79, 27)\", \"(z, s) - (79, 28)\", \"(z, s) - (79, 29)\", \"(z, s) - (79, 562)\", \"(z, s) - (79, 599)\", \"(z, s) - (200, 48)\"], \"y\": [8.947988644276608, 8.200632194190971, 8.97053061114189, 8.540746126740869, 8.343556352426788, 10.741760944417116, 10.233173927434173, 7.769883902269971, 10.362904246967357, 9.01418730897313], \"type\": \"bar\", \"uid\": \"f75e4201-e0a3-11e8-a9e0-5cc9d399d62a\"}], {\"barmode\": \"stack\", \"title\": \"Propor\\u00e7\\u00e3o de eleitores em votos v\\u00e1lidos e n\\u00e3o considerados\", \"xaxis\": {\"title\": \"Zonas\"}, \"yaxis\": {\"title\": \"% de registros\"}}, {\"showLink\": true, \"linkText\": \"Export to plot.ly\"})});</script>"
      ],
      "text/vnd.plotly.v1+html": [
       "<div id=\"c6af824d-fd81-416c-b636-24275b5def57\" style=\"height: 525px; width: 100%;\" class=\"plotly-graph-div\"></div><script type=\"text/javascript\">require([\"plotly\"], function(Plotly) { window.PLOTLYENV=window.PLOTLYENV || {};window.PLOTLYENV.BASE_URL=\"https://plot.ly\";Plotly.newPlot(\"c6af824d-fd81-416c-b636-24275b5def57\", [{\"name\": \"Nominais\", \"x\": [\"(z, s) - (66, 9)\", \"(z, s) - (66, 170)\", \"(z, s) - (79, 25)\", \"(z, s) - (79, 26)\", \"(z, s) - (79, 27)\", \"(z, s) - (79, 28)\", \"(z, s) - (79, 29)\", \"(z, s) - (79, 562)\", \"(z, s) - (79, 599)\", \"(z, s) - (200, 48)\"], \"y\": [61.326262788579996, 63.59515715393332, 64.35028172249321, 65.52715476257062, 62.75046396778963, 63.20511559272012, 62.72070488603809, 69.05735574423844, 63.1549623926862, 63.208795219196205], \"type\": \"bar\", \"uid\": \"f75e41fe-e0a3-11e8-a9e0-5cc9d399d62a\"}, {\"name\": \"Abstencoes\", \"x\": [\"(z, s) - (66, 9)\", \"(z, s) - (66, 170)\", \"(z, s) - (79, 25)\", \"(z, s) - (79, 26)\", \"(z, s) - (79, 27)\", \"(z, s) - (79, 28)\", \"(z, s) - (79, 29)\", \"(z, s) - (79, 562)\", \"(z, s) - (79, 599)\", \"(z, s) - (200, 48)\"], \"y\": [27.312657346403128, 25.41599570585078, 23.960599386561093, 22.920745008110075, 26.661633795728353, 22.653221839645845, 23.28885946791148, 20.965170680991164, 23.395041406032366, 25.201861228958535], \"type\": \"bar\", \"uid\": \"f75e41ff-e0a3-11e8-a9e0-5cc9d399d62a\"}, {\"name\": \"Brancos\", \"x\": [\"(z, s) - (66, 9)\", \"(z, s) - (66, 170)\", \"(z, s) - (79, 25)\", \"(z, s) - (79, 26)\", \"(z, s) - (79, 27)\", \"(z, s) - (79, 28)\", \"(z, s) - (79, 29)\", \"(z, s) - (79, 562)\", \"(z, s) - (79, 599)\", \"(z, s) - (200, 48)\"], \"y\": [2.4130912207402644, 2.78821494602493, 2.7185882798038077, 3.0113541025784443, 2.2443458840552357, 3.3999016232169206, 3.7572617186162507, 2.207589672500433, 3.087091954314078, 2.575156242872132], \"type\": \"bar\", \"uid\": \"f75e4200-e0a3-11e8-a9e0-5cc9d399d62a\"}, {\"name\": \"Nulos\", \"x\": [\"(z, s) - (66, 9)\", \"(z, s) - (66, 170)\", \"(z, s) - (79, 25)\", \"(z, s) - (79, 26)\", \"(z, s) - (79, 27)\", \"(z, s) - (79, 28)\", \"(z, s) - (79, 29)\", \"(z, s) - (79, 562)\", \"(z, s) - (79, 599)\", \"(z, s) - (200, 48)\"], \"y\": [8.947988644276608, 8.200632194190971, 8.97053061114189, 8.540746126740869, 8.343556352426788, 10.741760944417116, 10.233173927434173, 7.769883902269971, 10.362904246967357, 9.01418730897313], \"type\": \"bar\", \"uid\": \"f75e4201-e0a3-11e8-a9e0-5cc9d399d62a\"}], {\"barmode\": \"stack\", \"title\": \"Propor\\u00e7\\u00e3o de eleitores em votos v\\u00e1lidos e n\\u00e3o considerados\", \"xaxis\": {\"title\": \"Zonas\"}, \"yaxis\": {\"title\": \"% de registros\"}}, {\"showLink\": true, \"linkText\": \"Export to plot.ly\"})});</script>"
      ]
     },
     "metadata": {},
     "output_type": "display_data"
    }
   ],
   "source": [
    "title = 'Proporção de eleitores em votos válidos e não considerados'\n",
    "props = ['votos_nominais', 'abstencoes', 'votos_brancos', 'votos_nulos']\n",
    "labels = { 'votos_nominais': 'Nominais', 'abstencoes' : 'Abstencoes', 'votos_brancos': 'Brancos', 'votos_nulos': 'Nulos' }\n",
    "traces = generateDataToStackedBar(go=go, x=zonas_secao, props=props, labels=labels, df=agrupado_por_zona)\n",
    "fig = generatedStackedBar(go=go, data=traces, title=title, x='Zonas', y='% de registros')\n",
    "py.iplot(fig)"
   ]
  }
 ],
 "metadata": {
  "kernelspec": {
   "display_name": "Python 3",
   "language": "python",
   "name": "python3"
  },
  "language_info": {
   "codemirror_mode": {
    "name": "ipython",
    "version": 3
   },
   "file_extension": ".py",
   "mimetype": "text/x-python",
   "name": "python",
   "nbconvert_exporter": "python",
   "pygments_lexer": "ipython3",
   "version": "3.6.5"
  }
 },
 "nbformat": 4,
 "nbformat_minor": 2
}
